{
  "nbformat": 4,
  "nbformat_minor": 0,
  "metadata": {
    "colab": {
      "provenance": [],
      "authorship_tag": "ABX9TyPFyegcapdFgYfn/lRZ1HLC",
      "include_colab_link": true
    },
    "kernelspec": {
      "name": "python3",
      "display_name": "Python 3"
    },
    "language_info": {
      "name": "python"
    }
  },
  "cells": [
    {
      "cell_type": "markdown",
      "metadata": {
        "id": "view-in-github",
        "colab_type": "text"
      },
      "source": [
        "<a href=\"https://colab.research.google.com/github/danxguerrero/structy_python/blob/main/Structy_Course.ipynb\" target=\"_parent\"><img src=\"https://colab.research.google.com/assets/colab-badge.svg\" alt=\"Open In Colab\"/></a>"
      ]
    },
    {
      "cell_type": "markdown",
      "source": [
        "max value\n",
        "\n",
        "Write a function, max_value, that takes in list of numbers as an argument. The function should return the largest number in the list.\n",
        "\n",
        "Solve this without using any built-in list methods.\n",
        "\n",
        "You can assume that the list is non-empty."
      ],
      "metadata": {
        "id": "ttLlkAWt_bas"
      }
    },
    {
      "cell_type": "code",
      "execution_count": 2,
      "metadata": {
        "colab": {
          "base_uri": "https://localhost:8080/"
        },
        "id": "hr0kuF46-k7d",
        "outputId": "09f0df38-7ef5-4d28-ea67-2b4bceda1437"
      },
      "outputs": [
        {
          "output_type": "stream",
          "name": "stdout",
          "text": [
            "10\n",
            "40.3\n"
          ]
        }
      ],
      "source": [
        "def max_value(nums):\n",
        "  largest = nums[0]\n",
        "  for num in nums:\n",
        "    if num > largest:\n",
        "      largest = num\n",
        "  return largest\n",
        "\n",
        "print(max_value([4, 7, 2, 8, 10, 9])) # -> 10\n",
        "print(max_value([10, 5, 40, 40.3]))# -> 40.3\n"
      ]
    }
  ]
}