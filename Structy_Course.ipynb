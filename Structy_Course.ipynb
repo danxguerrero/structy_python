{
  "nbformat": 4,
  "nbformat_minor": 0,
  "metadata": {
    "colab": {
      "provenance": [],
      "authorship_tag": "ABX9TyPrDPBnVutZG04lWuKcFi9P",
      "include_colab_link": true
    },
    "kernelspec": {
      "name": "python3",
      "display_name": "Python 3"
    },
    "language_info": {
      "name": "python"
    }
  },
  "cells": [
    {
      "cell_type": "markdown",
      "metadata": {
        "id": "view-in-github",
        "colab_type": "text"
      },
      "source": [
        "<a href=\"https://colab.research.google.com/github/danxguerrero/structy_python/blob/main/Structy_Course.ipynb\" target=\"_parent\"><img src=\"https://colab.research.google.com/assets/colab-badge.svg\" alt=\"Open In Colab\"/></a>"
      ]
    },
    {
      "cell_type": "markdown",
      "source": [
        "max value\n",
        "\n",
        "Write a function, max_value, that takes in list of numbers as an argument. The function should return the largest number in the list.\n",
        "\n",
        "Solve this without using any built-in list methods.\n",
        "\n",
        "You can assume that the list is non-empty."
      ],
      "metadata": {
        "id": "ttLlkAWt_bas"
      }
    },
    {
      "cell_type": "code",
      "execution_count": null,
      "metadata": {
        "colab": {
          "base_uri": "https://localhost:8080/"
        },
        "id": "hr0kuF46-k7d",
        "outputId": "09f0df38-7ef5-4d28-ea67-2b4bceda1437"
      },
      "outputs": [
        {
          "output_type": "stream",
          "name": "stdout",
          "text": [
            "10\n",
            "40.3\n"
          ]
        }
      ],
      "source": [
        "def max_value(nums):\n",
        "  largest = nums[0]\n",
        "  for num in nums:\n",
        "    if num > largest:\n",
        "      largest = num\n",
        "  return largest\n",
        "\n",
        "print(max_value([4, 7, 2, 8, 10, 9])) # -> 10\n",
        "print(max_value([10, 5, 40, 40.3]))# -> 40.3"
      ]
    },
    {
      "cell_type": "markdown",
      "source": [
        "is prime\n",
        "\n",
        "Write a function, is_prime, that takes in a number as an argument. The function should return a boolean indicating whether or not the given number is prime.\n",
        "\n",
        "A prime number is a number that is only divisible by two distinct numbers: 1 and itself.\n",
        "\n",
        "For example, 7 is a prime because it is only divisible by 1 and 7. For example, 6 is not a prime because it is divisible by 1, 2, 3, and 6.\n",
        "\n",
        "You can assume that the input number is a positive integer."
      ],
      "metadata": {
        "id": "Z-Hoxy6NJru4"
      }
    },
    {
      "cell_type": "code",
      "source": [
        "from math import sqrt, floor\n",
        "\n",
        "def is_prime(n):\n",
        "  if n < 2:\n",
        "    return False\n",
        "\n",
        "  for x in range(2, floor(sqrt(n)) + 1):\n",
        "    if n % x == 0:\n",
        "      return False\n",
        "\n",
        "  return True\n",
        "\n",
        "print(is_prime(2)) # -> True\n",
        "print(is_prime(3)) # -> True\n",
        "print(is_prime(4)) # -> False"
      ],
      "metadata": {
        "colab": {
          "base_uri": "https://localhost:8080/"
        },
        "id": "jP5NtJUZJ1QD",
        "outputId": "99f14e2d-5f99-45cf-c896-e9f6d94a9ec1"
      },
      "execution_count": null,
      "outputs": [
        {
          "output_type": "stream",
          "name": "stdout",
          "text": [
            "True\n",
            "True\n",
            "False\n"
          ]
        }
      ]
    },
    {
      "cell_type": "markdown",
      "source": [
        "anagrams\n",
        "\n",
        "Write a function, anagrams, that takes in two strings as arguments. The function should return a boolean indicating whether or not the strings are anagrams. Anagrams are strings that contain the same characters, but in any order."
      ],
      "metadata": {
        "id": "NXxO_rTb_s8d"
      }
    },
    {
      "cell_type": "code",
      "source": [
        "def anagrams(s1, s2):\n",
        "  return ''.join(sorted(s1)) == ''.join(sorted(s2))\n",
        "\n",
        "print(anagrams('restful', 'fluster')) # -> True\n",
        "print(anagrams('cats', 'tocs')) # -> False\n",
        "print(anagrams('monkeyswrite', 'newyorktimes')) # -> True"
      ],
      "metadata": {
        "colab": {
          "base_uri": "https://localhost:8080/"
        },
        "id": "uDTUgmYL__wl",
        "outputId": "9db11185-0e7c-4187-87f6-4d68793b89ac"
      },
      "execution_count": null,
      "outputs": [
        {
          "output_type": "stream",
          "name": "stdout",
          "text": [
            "True\n",
            "False\n",
            "True\n"
          ]
        }
      ]
    },
    {
      "cell_type": "markdown",
      "source": [
        "most frequent char\n",
        "\n",
        "Write a function, most_frequent_char, that takes in a string as an argument. The function should return the most frequent character of the string. If there are ties, return the character that appears earlier in the string.\n",
        "\n",
        "You can assume that the input string is non-empty."
      ],
      "metadata": {
        "id": "vqVtTzFkxal8"
      }
    },
    {
      "cell_type": "code",
      "source": [
        "from collections import Counter\n",
        "\n",
        "def most_frequent_char(s):\n",
        "  count = Counter(s)\n",
        "\n",
        "  most_frequent = None\n",
        "\n",
        "  for letter in s:\n",
        "    if most_frequent is None or count[letter] > count[most_frequent]:\n",
        "      most_frequent = letter\n",
        "\n",
        "  return most_frequent\n",
        "\n",
        "print(most_frequent_char('bookeeper')) # -> 'e'\n",
        "print(most_frequent_char('david')) # -> 'd'\n",
        "print(most_frequent_char('abby')) # -> 'b'"
      ],
      "metadata": {
        "colab": {
          "base_uri": "https://localhost:8080/"
        },
        "id": "TJfYPZcZxe4s",
        "outputId": "bcf77c83-f511-4435-c27c-8f55940b3e18"
      },
      "execution_count": null,
      "outputs": [
        {
          "output_type": "stream",
          "name": "stdout",
          "text": [
            "e\n",
            "d\n",
            "b\n"
          ]
        }
      ]
    },
    {
      "cell_type": "markdown",
      "source": [
        "pair sum\n",
        "\n",
        "Write a function, pair_sum, that takes in a list and a target sum as arguments. The function should return a tuple containing a pair of indices whose elements sum to the given target. The indices returned must be unique.\n",
        "\n",
        "Be sure to return the indices, not the elements themselves.\n",
        "\n",
        "There is guaranteed to be one such pair that sums to the target."
      ],
      "metadata": {
        "id": "B5PZZIEei-SI"
      }
    },
    {
      "cell_type": "code",
      "source": [
        "def pair_sum(numbers, target_sum):\n",
        "  previous_numbers = {}\n",
        "  for index, num in enumerate(numbers):\n",
        "    compliment = target_sum - num\n",
        "\n",
        "    if compliment in previous_numbers:\n",
        "      return (index, previous_numbers[compliment])\n",
        "\n",
        "    previous_numbers[num] = index\n",
        "\n",
        "print(pair_sum([3, 2, 5, 4, 1], 8)) # -> (0, 2)\n",
        "print(pair_sum([4, 7, 9, 2, 5, 1], 5)) # -> (0, 5)"
      ],
      "metadata": {
        "colab": {
          "base_uri": "https://localhost:8080/"
        },
        "id": "qUIYDy0AjJxJ",
        "outputId": "106dd35d-f6b1-4e81-84af-8c275fc5327e"
      },
      "execution_count": null,
      "outputs": [
        {
          "output_type": "stream",
          "name": "stdout",
          "text": [
            "(2, 0)\n",
            "(5, 0)\n"
          ]
        }
      ]
    },
    {
      "cell_type": "markdown",
      "source": [
        "pair product\n",
        "\n",
        "Write a function, pair_product, that takes in a list and a target product as arguments. The function should return a tuple containing a pair of indices whose elements multiply to the given target. The indices returned must be unique.\n",
        "\n",
        "Be sure to return the indices, not the elements themselves.\n",
        "\n",
        "There is guaranteed to be one such pair whose product is the target."
      ],
      "metadata": {
        "id": "ify3qby__M5H"
      }
    },
    {
      "cell_type": "code",
      "source": [
        "def pair_product(numbers, target_product):\n",
        "  previous_numbers = {}\n",
        "\n",
        "  for index, num in enumerate(numbers):\n",
        "    complement = target_product / num\n",
        "    if complement in previous_numbers:\n",
        "      return (previous_numbers[complement], index)\n",
        "    previous_numbers[num] = index\n",
        "\n",
        "print(pair_product([3, 2, 5, 4, 1], 8)) # -> (1, 3)\n",
        "print(pair_product([3, 2, 5, 4, 1], 10)) # -> (1, 2)"
      ],
      "metadata": {
        "colab": {
          "base_uri": "https://localhost:8080/"
        },
        "id": "uXq0--Am_PAy",
        "outputId": "b357ff7e-591c-453a-d0c1-9f44d5358e2b"
      },
      "execution_count": null,
      "outputs": [
        {
          "output_type": "stream",
          "name": "stdout",
          "text": [
            "(1, 3)\n",
            "(1, 2)\n"
          ]
        }
      ]
    },
    {
      "cell_type": "markdown",
      "source": [
        "uncompress\n",
        "\n",
        "Write a function, uncompress, that takes in a string as an argument. The input string will be formatted into multiple groups according to the following pattern:\n",
        "\n",
        "number char\n",
        "\n",
        "for example, '2c' or '3a'.\n",
        "\n",
        "The function should return an uncompressed version of the string where each 'char' of a group is repeated 'number' times consecutively. You may assume that the input string is well-formed according to the previously mentioned pattern.\n",
        "\n"
      ],
      "metadata": {
        "id": "7Y5yzK3h5r22"
      }
    },
    {
      "cell_type": "code",
      "source": [
        "def uncompress(s):\n",
        "  numbers = '0123456789'\n",
        "  result = []\n",
        "  start = 0\n",
        "  end = 0\n",
        "\n",
        "  while end < len(s):\n",
        "    if s[end] in numbers:\n",
        "      end += 1\n",
        "    else:\n",
        "      num = int(s[start:end])\n",
        "      result.append(s[end] * num)\n",
        "      end += 1\n",
        "      start = end\n",
        "\n",
        "  return ''.join(result)\n",
        "\n",
        "print(uncompress('2c3a1t')) # -> 'ccaaat'\n",
        "print(uncompress('4s2b')) # -> 'ssssbb'"
      ],
      "metadata": {
        "colab": {
          "base_uri": "https://localhost:8080/"
        },
        "id": "HX_qZ_S36Mhe",
        "outputId": "2b14e9d1-b196-41e0-efcc-528843c49802"
      },
      "execution_count": null,
      "outputs": [
        {
          "output_type": "stream",
          "name": "stdout",
          "text": [
            "ccaaat\n",
            "ssssbb\n"
          ]
        }
      ]
    },
    {
      "cell_type": "markdown",
      "source": [
        "compress\n",
        "\n",
        "Write a function, compress, that takes in a string as an argument. The function should return a compressed version of the string where consecutive occurrences of the same characters are compressed into the number of occurrences followed by the character. Single character occurrences should not be changed.\n",
        "\n",
        "'aaa' compresses to '3a'\n",
        "\n",
        "'cc' compresses to '2c'\n",
        "\n",
        "'t' should remain as 't'\n",
        "\n",
        "You can assume that the input only contains alphabetic characters."
      ],
      "metadata": {
        "id": "jpTdBOVP_01A"
      }
    },
    {
      "cell_type": "code",
      "source": [
        "def compress(s):\n",
        "  s += '!'\n",
        "  result = []\n",
        "  i = 0\n",
        "  j = 0\n",
        "  count = 0\n",
        "\n",
        "  while j < len(s):\n",
        "    if s[i] == s[j]:\n",
        "      j += 1\n",
        "    else:\n",
        "      num = j - i\n",
        "      if num == 1:\n",
        "        result.append(s[i])\n",
        "      else:\n",
        "        result.append(str(num))\n",
        "        result.append(s[i])\n",
        "      i = j\n",
        "\n",
        "  return ''.join(result)\n",
        "\n",
        "print(compress('ccaaatsss')) # -> '2c3at3s'\n",
        "print(compress('ssssbbz')) # -> '4s2bz'\n",
        "print(compress('ppoppppp')) # -> '2po5p'"
      ],
      "metadata": {
        "colab": {
          "base_uri": "https://localhost:8080/"
        },
        "id": "N2xUlRSa_0eC",
        "outputId": "7dda0c9c-2e7a-4ef8-d50d-f037110a05a0"
      },
      "execution_count": null,
      "outputs": [
        {
          "output_type": "stream",
          "name": "stdout",
          "text": [
            "2c3at3s\n",
            "4s2bz\n",
            "2po5p\n"
          ]
        }
      ]
    },
    {
      "cell_type": "markdown",
      "source": [
        "intersection\n",
        "\n",
        "Write a function, intersection, that takes in two lists, a,b, as arguments. The function should return a new list containing elements that are in both of the two lists.\n",
        "\n",
        "You may assume that each input list does not contain duplicate elements."
      ],
      "metadata": {
        "id": "CygC1pjnq9zf"
      }
    },
    {
      "cell_type": "code",
      "source": [
        "def intersection(a, b):\n",
        "  set_a = set(a)\n",
        "  set_b = set(b)\n",
        "  intersect = set_a.intersection(set_b)\n",
        "  return list(intersect)\n",
        "\n",
        "print(intersection([4,2,1,6], [3,6,9,2,10])) # -> [2,6]\n",
        "print(intersection([4,2,1], [1,2,4,6])) # -> [1,2,4]"
      ],
      "metadata": {
        "colab": {
          "base_uri": "https://localhost:8080/"
        },
        "id": "ftj7f4qarAxP",
        "outputId": "e6534bd2-3989-4814-c2d9-f08f346467e4"
      },
      "execution_count": null,
      "outputs": [
        {
          "output_type": "stream",
          "name": "stdout",
          "text": [
            "[2, 6]\n",
            "[1, 2, 4]\n"
          ]
        }
      ]
    },
    {
      "cell_type": "markdown",
      "source": [
        "five sort\n",
        "\n",
        "Write a function, five_sort, that takes in a list of numbers as an argument. The function should rearrange elements of the list such that all 5s appear at the end. Your function should perform this operation in-place by mutating the original list. The function should return the list.\n",
        "\n",
        "Elements that are not 5 can appear in any order in the output, as long as all 5s are at the end of the list."
      ],
      "metadata": {
        "id": "tTvOYeDE2pTT"
      }
    },
    {
      "cell_type": "code",
      "source": [
        "def five_sort(nums):\n",
        "  i = 0\n",
        "  j = len(nums) - 1\n",
        "\n",
        "  while i < j:\n",
        "    if nums[j] == 5:\n",
        "      j -= 1\n",
        "    elif nums[i] == 5:\n",
        "      nums[i], nums[j] = nums[j], nums[i]\n",
        "      i += 1\n",
        "    else:\n",
        "      i += 1\n",
        "\n",
        "  return nums\n",
        "\n",
        "print(five_sort([5, 2, 5, 6, 5, 1])) # -> [1, 2, 6, 5, 5, 5]\n",
        "print(five_sort([5, 5, 5, 1, 1, 1, 4]))\n",
        "# -> [4, 1, 1, 1, 5, 5, 5]\n"
      ],
      "metadata": {
        "colab": {
          "base_uri": "https://localhost:8080/"
        },
        "id": "2ShprQlC2wUz",
        "outputId": "c7cfe789-ad43-426e-e8b6-c8ce635d8acc"
      },
      "execution_count": null,
      "outputs": [
        {
          "output_type": "stream",
          "name": "stdout",
          "text": [
            "[1, 2, 6, 5, 5, 5]\n",
            "[4, 1, 1, 1, 5, 5, 5]\n"
          ]
        }
      ]
    },
    {
      "cell_type": "markdown",
      "source": [
        "sum numbers recursive\n",
        "\n",
        "Write a function sumNumbersRecursive that takes in an array of numbers and returns the sum of all the numbers in the array. All elements will be integers. Solve this recursively."
      ],
      "metadata": {
        "id": "x1wYZgbNl7Jv"
      }
    },
    {
      "cell_type": "code",
      "source": [
        "def sum_numbers_recursive(numbers):\n",
        "  if numbers == []: return 0\n",
        "  return numbers[0] + sum_numbers_recursive(numbers[1:])\n",
        "\n",
        "print(sum_numbers_recursive([5, 2, 9, 10])) # -> 26\n",
        "print(sum_numbers_recursive([1, -1, 1, -1, 1, -1, 1])) # -> 1"
      ],
      "metadata": {
        "colab": {
          "base_uri": "https://localhost:8080/"
        },
        "id": "jyRl5Nmzl__x",
        "outputId": "2f9ea007-dcec-44e6-d966-1a7af4d6a07f"
      },
      "execution_count": null,
      "outputs": [
        {
          "output_type": "stream",
          "name": "stdout",
          "text": [
            "26\n",
            "1\n"
          ]
        }
      ]
    },
    {
      "cell_type": "markdown",
      "source": [
        "factorial\n",
        "\n",
        "Write a function, factorial, that takes in a number n and returns the factorial of that number. The factorial of n is the product of all the positive numbers less than or equal to n. You must solve this recursively.\n",
        "\n",
        "\n",
        "For example, the factorial of 6 is:\n",
        "\n",
        "6 * 5 * 4 * 3 * 2 * 1 = 720\n",
        "You can assume that n is a non-negative integer. Note that the factorial of 0 is defined to be 1"
      ],
      "metadata": {
        "id": "Efk0byyt0VcV"
      }
    },
    {
      "cell_type": "code",
      "source": [
        "def factorial(n):\n",
        "  if n == 0: return 1\n",
        "  return n * factorial(n - 1)\n",
        "\n",
        "print(factorial(3)) # -> 6\n",
        "print(factorial(6)) # -> 720"
      ],
      "metadata": {
        "colab": {
          "base_uri": "https://localhost:8080/"
        },
        "id": "4eMK6uRF1R3K",
        "outputId": "7d809106-0ce0-45f0-bf82-b5a484b2632b"
      },
      "execution_count": null,
      "outputs": [
        {
          "output_type": "stream",
          "name": "stdout",
          "text": [
            "6\n",
            "720\n"
          ]
        }
      ]
    },
    {
      "cell_type": "markdown",
      "source": [
        "sum of lengths\n",
        "\n",
        "Write a function sumOfLengths that takes in a list of strings and returns the total length of the strings.\n",
        "\n",
        "You must solve this recursively."
      ],
      "metadata": {
        "id": "uXFtv0MFCkNq"
      }
    },
    {
      "cell_type": "code",
      "source": [
        "def sum_of_lengths(strings):\n",
        "  if strings == []: return 0\n",
        "  return len(strings[0]) + sum_of_lengths(strings[1:])\n",
        "\n",
        "print(sum_of_lengths(['goat', 'cat', 'purple'])) # -> 13\n",
        "print(sum_of_lengths([])) # -> 0\n",
        "print(sum_of_lengths(['', ' ', '  ', '   ', '    ', '     '])) # -> 15"
      ],
      "metadata": {
        "colab": {
          "base_uri": "https://localhost:8080/"
        },
        "id": "m2TYTNLhCk1L",
        "outputId": "6e7ec30c-52e1-41c6-e837-8d22d9211afd"
      },
      "execution_count": null,
      "outputs": [
        {
          "output_type": "stream",
          "name": "stdout",
          "text": [
            "13\n",
            "0\n",
            "15\n"
          ]
        }
      ]
    },
    {
      "cell_type": "markdown",
      "source": [
        "reverse string recursive\n",
        "\n",
        "Write a function, reverse_string, that takes in a string as an argument. The function should return the string with its characters in reverse order. You must do this recursively."
      ],
      "metadata": {
        "id": "v7SCOilMEHij"
      }
    },
    {
      "cell_type": "code",
      "source": [
        "def reverse_string(s):\n",
        "  if len(s) == 0: return \"\"\n",
        "  return s[-1] + reverse_string(s[:-1])\n",
        "\n",
        "print(reverse_string(\"hello\")) # -> \"olleh\"\n",
        "print(reverse_string(\"stopwatch\")) # -> \"hctawpots\"\n",
        "print(reverse_string(\"\")) # -> \"\""
      ],
      "metadata": {
        "colab": {
          "base_uri": "https://localhost:8080/"
        },
        "id": "_xjeZLsCEIDb",
        "outputId": "ee41b8ef-c480-4b87-e0b5-43e42430f92e"
      },
      "execution_count": null,
      "outputs": [
        {
          "output_type": "stream",
          "name": "stdout",
          "text": [
            "olleh\n",
            "hctawpots\n",
            "\n"
          ]
        }
      ]
    },
    {
      "cell_type": "markdown",
      "source": [
        "palindrome recursive\n",
        "\n",
        "Write a function, palindrome, that takes in a string and returns a boolean indicating whether or not the string is the same forwards and backwards.\n",
        "\n",
        "You must solve this recursively."
      ],
      "metadata": {
        "id": "6hVaL-A9iVut"
      }
    },
    {
      "cell_type": "code",
      "source": [
        "def palindrome(s):\n",
        "  if len(s) <= 1: return True\n",
        "  if s[0] != s[-1]: return False\n",
        "  return palindrome(s[1:-1])\n",
        "\n",
        "print(palindrome(\"pop\")) # -> True\n",
        "print(palindrome(\"abcbca\")) # -> False\n",
        "print(palindrome(\"a\")) # -> True\n",
        "print(palindrome(\"noon\")) # -> True"
      ],
      "metadata": {
        "colab": {
          "base_uri": "https://localhost:8080/"
        },
        "id": "vsvizRtnib0w",
        "outputId": "d796ce29-96b1-48e4-b398-791e9b278fa4"
      },
      "execution_count": null,
      "outputs": [
        {
          "output_type": "stream",
          "name": "stdout",
          "text": [
            "True\n",
            "False\n",
            "True\n",
            "True\n"
          ]
        }
      ]
    },
    {
      "cell_type": "markdown",
      "source": [
        "fibonacci\n",
        "\n",
        "Write a function, fibonacci, that takes in a number argument, n, and returns the n-th number of the Fibonacci sequence.\n",
        "\n",
        "The 0-th number of the sequence is 0.\n",
        "\n",
        "The 1-st number of the sequence is 1.\n",
        "\n",
        "To generate further numbers of the sequence, calculate the sum of previous two numbers.\n",
        "\n",
        "You must solve this recursively."
      ],
      "metadata": {
        "id": "9VgT1EOZVP8f"
      }
    },
    {
      "cell_type": "code",
      "source": [
        "def fibonacci(n):\n",
        "  if n == 0: return 0\n",
        "  if n == 1: return 1\n",
        "  return fibonacci(n - 1) + fibonacci(n - 2)\n",
        "\n",
        "print(fibonacci(5)) # -> 5\n",
        "print(fibonacci(10)) # -> 55"
      ],
      "metadata": {
        "colab": {
          "base_uri": "https://localhost:8080/"
        },
        "id": "7vIUM1ffVWJ-",
        "outputId": "ea42d29f-26a1-428a-d77e-965ebce7aed9"
      },
      "execution_count": null,
      "outputs": [
        {
          "output_type": "stream",
          "name": "stdout",
          "text": [
            "5\n",
            "55\n"
          ]
        }
      ]
    },
    {
      "cell_type": "markdown",
      "source": [
        "linked list values\n",
        "\n",
        "Write a function, linked_list_values, that takes in the head of a linked list as an argument. The function should return a list containing all values of the nodes in the linked list."
      ],
      "metadata": {
        "id": "GMk1suEc0f6S"
      }
    },
    {
      "cell_type": "code",
      "source": [
        "class Node:\n",
        "  def __init__(self, val):\n",
        "    self.val = val\n",
        "    self.next = None\n",
        "\n",
        "def linked_list_values(head):\n",
        "  values = []\n",
        "  current = head\n",
        "\n",
        "  while current is not None:\n",
        "    values.append(current.val)\n",
        "    current = current.next\n",
        "\n",
        "\n",
        "  return values\n",
        "\n",
        "a = Node(\"a\")\n",
        "b = Node(\"b\")\n",
        "c = Node(\"c\")\n",
        "d = Node(\"d\")\n",
        "\n",
        "a.next = b\n",
        "b.next = c\n",
        "c.next = d\n",
        "\n",
        "# a -> b -> c -> d\n",
        "\n",
        "print(linked_list_values(a)) # -> [ 'a', 'b', 'c', 'd' ]\n"
      ],
      "metadata": {
        "colab": {
          "base_uri": "https://localhost:8080/"
        },
        "id": "pO8jlafv0heY",
        "outputId": "d00473fc-8bbb-4c6b-b5e4-ee6db59843f0"
      },
      "execution_count": null,
      "outputs": [
        {
          "output_type": "stream",
          "name": "stdout",
          "text": [
            "['a', 'b', 'c', 'd']\n"
          ]
        }
      ]
    },
    {
      "cell_type": "markdown",
      "source": [
        "sum list\n",
        "\n",
        "Write a function, sum_list, that takes in the head of a linked list containing numbers as an argument. The function should return the total sum of all values in the linked list."
      ],
      "metadata": {
        "id": "7XytrDmQQuIC"
      }
    },
    {
      "cell_type": "code",
      "source": [
        "class Node:\n",
        "  def __init__(self, val):\n",
        "    self.val = val\n",
        "    self.next = None\n",
        "\n",
        "def sum_list(head):\n",
        "  if head == None: return 0\n",
        "\n",
        "  current = head\n",
        "  sum = 0\n",
        "  while current is not None:\n",
        "    sum += current.val\n",
        "    current = current.next\n",
        "\n",
        "  return sum\n",
        "\n",
        "a = Node(2)\n",
        "b = Node(8)\n",
        "c = Node(3)\n",
        "d = Node(-1)\n",
        "e = Node(7)\n",
        "\n",
        "a.next = b\n",
        "b.next = c\n",
        "c.next = d\n",
        "d.next = e\n",
        "\n",
        "# 2 -> 8 -> 3 -> -1 -> 7\n",
        "\n",
        "print(sum_list(a)) # 19"
      ],
      "metadata": {
        "colab": {
          "base_uri": "https://localhost:8080/"
        },
        "id": "C3Q1szUxQv18",
        "outputId": "d035eef5-5852-4f24-f364-90a38a2451c0"
      },
      "execution_count": null,
      "outputs": [
        {
          "output_type": "stream",
          "name": "stdout",
          "text": [
            "19\n"
          ]
        }
      ]
    },
    {
      "cell_type": "markdown",
      "source": [
        "linked list find\n",
        "\n",
        "Write a function, linked_list_find, that takes in the head of a linked list and a target value. The function should return a boolean indicating whether or not the linked list contains the target."
      ],
      "metadata": {
        "id": "mw1RsJPIhGKO"
      }
    },
    {
      "cell_type": "code",
      "source": [
        "class Node:\n",
        "  def __init__(self, val):\n",
        "    self.val = val\n",
        "    self.next = None\n",
        "\n",
        "def linked_list_find(head, target):\n",
        "  current = head\n",
        "  while current is not None:\n",
        "    if current.val == target:\n",
        "      return True\n",
        "    current = current.next\n",
        "\n",
        "  return False\n",
        "\n",
        "a = Node(\"a\")\n",
        "b = Node(\"b\")\n",
        "c = Node(\"c\")\n",
        "d = Node(\"d\")\n",
        "\n",
        "a.next = b\n",
        "b.next = c\n",
        "c.next = d\n",
        "\n",
        "# a -> b -> c -> d\n",
        "\n",
        "print(linked_list_find(a, \"c\")) # True\n",
        "print(linked_list_find(a, \"q\")) # False)\n",
        "print(linked_list_find(a, \"d\")) # True"
      ],
      "metadata": {
        "colab": {
          "base_uri": "https://localhost:8080/"
        },
        "id": "YyryNGZYhJHc",
        "outputId": "af2b50f2-14bb-4ee1-ff69-e8af78bd5caf"
      },
      "execution_count": null,
      "outputs": [
        {
          "output_type": "stream",
          "name": "stdout",
          "text": [
            "True\n",
            "False\n",
            "True\n"
          ]
        }
      ]
    },
    {
      "cell_type": "markdown",
      "source": [
        "get node value\n",
        "\n",
        "Write a function, get_node_value, that takes in the head of a linked list and an index. The function should return the value of the linked list at the specified index.\n",
        "\n",
        "If there is no node at the given index, then return None."
      ],
      "metadata": {
        "id": "StsQ9MDohEOJ"
      }
    },
    {
      "cell_type": "code",
      "source": [
        "class Node:\n",
        "  def __init__(self, val):\n",
        "    self.val = val\n",
        "    self.next = None\n",
        "\n",
        "def get_node_value(head, index):\n",
        "  current = head\n",
        "\n",
        "  while index > 0:\n",
        "    if current.next is not None:\n",
        "      current = current.next\n",
        "    else:\n",
        "      return None\n",
        "    index -= 1\n",
        "\n",
        "  return current.val\n",
        "\n",
        "a = Node(\"a\")\n",
        "b = Node(\"b\")\n",
        "c = Node(\"c\")\n",
        "d = Node(\"d\")\n",
        "\n",
        "a.next = b\n",
        "b.next = c\n",
        "c.next = d\n",
        "\n",
        "# a -> b -> c -> d\n",
        "\n",
        "print(get_node_value(a, 2)) # 'c'\n",
        "print(get_node_value(a, 3)) # 'd'\n",
        "print(get_node_value(a, 7)) # None"
      ],
      "metadata": {
        "colab": {
          "base_uri": "https://localhost:8080/"
        },
        "id": "uoDXCqIzhGp5",
        "outputId": "da354b9a-985a-48ae-f377-69e3e40f8d9b"
      },
      "execution_count": null,
      "outputs": [
        {
          "output_type": "stream",
          "name": "stdout",
          "text": [
            "c\n",
            "d\n",
            "None\n"
          ]
        }
      ]
    },
    {
      "cell_type": "markdown",
      "source": [
        "reverse list\n",
        "\n",
        "Write a function, reverse_list, that takes in the head of a linked list as an argument. The function should reverse the order of the nodes in the linked list in-place and return the new head of the reversed linked list."
      ],
      "metadata": {
        "id": "lJrh8i6qco6z"
      }
    },
    {
      "cell_type": "code",
      "source": [
        "class Node:\n",
        "  def __init__(self, val):\n",
        "    self.val = val\n",
        "    self.next = None\n",
        "\n",
        "def reverse_list(head):\n",
        "  current = head\n",
        "  prev = None\n",
        "\n",
        "  while current is not None:\n",
        "    next = current.next\n",
        "    current.next = prev\n",
        "    prev = current\n",
        "    current = next\n",
        "\n",
        "  return prev"
      ],
      "metadata": {
        "id": "IULBDQGgc36x"
      },
      "execution_count": null,
      "outputs": []
    },
    {
      "cell_type": "markdown",
      "source": [
        "zipper lists\n",
        "\n",
        "Write a function, zipper_lists, that takes in the head of two linked lists as arguments. The function should zipper the two lists together into single linked list by alternating nodes. If one of the linked lists is longer than the other, the resulting list should terminate with the remaining nodes. The function should return the head of the zippered linked list.\n",
        "\n",
        "Do this in-place, by mutating the original Nodes.\n",
        "\n",
        "You may assume that both input lists are non-empty."
      ],
      "metadata": {
        "id": "1pEgiBRVy3xO"
      }
    },
    {
      "cell_type": "code",
      "source": [
        "class Node:\n",
        "  def __init__(self, val):\n",
        "    self.val = val\n",
        "    self.next = None\n",
        "\n",
        "def zipper_lists(head_1, head_2):\n",
        "    tail = head_1\n",
        "    current_1 = head_1.next\n",
        "    current_2 = head_2\n",
        "    count = 0\n",
        "\n",
        "    while current_1 is not None and current_2 is not None:\n",
        "      if count % 2 == 0:\n",
        "        tail.next = current_2\n",
        "        current_2 = current_2.next\n",
        "      else:\n",
        "        tail.next = current_1\n",
        "        current_1 = current_1.next\n",
        "      tail = tail.next\n",
        "      count += 1\n",
        "\n",
        "    if current_1 is not None:\n",
        "      tail.next = current_1\n",
        "    if current_2 is not None:\n",
        "      tail.next = current_2\n",
        "\n",
        "    return head_1"
      ],
      "metadata": {
        "id": "MDgPd_7py6M_"
      },
      "execution_count": null,
      "outputs": []
    },
    {
      "cell_type": "markdown",
      "source": [
        "merge lists\n",
        "\n",
        "Write a function, merge_lists, that takes in the head of two sorted linked lists as arguments. The function should merge the two lists together into single sorted linked list. The function should return the head of the merged linked list.\n",
        "\n",
        "Do this in-place, by mutating the original Nodes.\n",
        "\n",
        "You may assume that both input lists are non-empty and contain increasing sorted numbers."
      ],
      "metadata": {
        "id": "rrjTTUupBACc"
      }
    },
    {
      "cell_type": "code",
      "source": [
        "class Node:\n",
        "  def __init__(self, val):\n",
        "    self.val = val\n",
        "    self.next = None\n",
        "\n",
        "def merge_lists(head_1, head_2):\n",
        "  dummy_head = Node(None)\n",
        "  tail = dummy_head\n",
        "  current_1 = head_1\n",
        "  current_2 = head_2\n",
        "\n",
        "  while current_1 is not None and current_2 is not None:\n",
        "    if current_1.val < current_2.val:\n",
        "      tail.next = current_1\n",
        "      current_1 = current_1.next\n",
        "    else:\n",
        "      tail.next = current_2\n",
        "      current_2 = current_2.next\n",
        "    tail = tail.next\n",
        "\n",
        "  if current_1 is not None:\n",
        "    tail.next = current_1\n",
        "\n",
        "  if current_2 is not None:\n",
        "    tail.next = current_2\n",
        "\n",
        "  return dummy_head.next"
      ],
      "metadata": {
        "id": "Yz_bIBg0BDZi"
      },
      "execution_count": null,
      "outputs": []
    },
    {
      "cell_type": "markdown",
      "source": [
        "is univalue list\n",
        "\n",
        "Write a function, is_univalue_list, that takes in the head of a linked list as an argument. The function should return a boolean indicating whether or not the linked list contains exactly one unique value.\n",
        "\n",
        "You may assume that the input list is non-empty."
      ],
      "metadata": {
        "id": "a3nxuLVepQvg"
      }
    },
    {
      "cell_type": "code",
      "source": [
        "class Node:\n",
        "  def __init__(self, val):\n",
        "    self.val = val\n",
        "    self.next = None\n",
        "\n",
        "def is_univalue_list(head):\n",
        "  current = head\n",
        "\n",
        "  while current is not None:\n",
        "    if current.val != head.val:\n",
        "      return False\n",
        "    current = current.next\n",
        "\n",
        "  return True\n",
        "\n",
        "a = Node(7)\n",
        "b = Node(7)\n",
        "c = Node(7)\n",
        "\n",
        "a.next = b\n",
        "b.next = c\n",
        "\n",
        "# 7 -> 7 -> 7\n",
        "\n",
        "print(is_univalue_list(a)) # True"
      ],
      "metadata": {
        "colab": {
          "base_uri": "https://localhost:8080/"
        },
        "id": "B_5a4v-LpSTl",
        "outputId": "264747fe-f266-4164-9be7-802eebe4dfd7"
      },
      "execution_count": null,
      "outputs": [
        {
          "output_type": "stream",
          "name": "stdout",
          "text": [
            "True\n"
          ]
        }
      ]
    },
    {
      "cell_type": "markdown",
      "source": [
        "longest streak\n",
        "\n",
        "Write a function, longest_streak, that takes in the head of a linked list as an argument. The function should return the length of the longest consecutive streak of the same value within the list"
      ],
      "metadata": {
        "id": "Tb6cx-2ynRje"
      }
    },
    {
      "cell_type": "code",
      "source": [
        "# class Node:\n",
        "#   def __init__(self, val):\n",
        "#     self.val = val\n",
        "#     self.next = None\n",
        "\n",
        "def longest_streak(head):\n",
        "  if head == None: return 0\n",
        "\n",
        "  pointer_1 = head\n",
        "  pointer_2 = head.next\n",
        "  highest_count = 1\n",
        "  count = 1\n",
        "\n",
        "  while pointer_1 is not None and pointer_2 is not None:\n",
        "    if pointer_1.val == pointer_2.val:\n",
        "      count += 1\n",
        "      pointer_2 = pointer_2.next\n",
        "    else:\n",
        "      count = 1\n",
        "      pointer_1 = pointer_2\n",
        "      pointer_2 = pointer_2.next\n",
        "    if count > highest_count:\n",
        "        highest_count = count\n",
        "\n",
        "  return highest_count"
      ],
      "metadata": {
        "id": "JwsXM75znWxL"
      },
      "execution_count": null,
      "outputs": []
    },
    {
      "cell_type": "markdown",
      "source": [
        "remove node\n",
        "\n",
        "Write a function, remove_node, that takes in the head of a linked list and a target value as arguments. The function should delete the node containing the target value from the linked list and return the head of the resulting linked list. If the target appears multiple times in the linked list, only remove the first instance of the target in the list.\n",
        "\n",
        "Do this in-place.\n",
        "\n",
        "You may assume that the input list is non-empty.\n",
        "\n",
        "You may assume that the input list contains the target."
      ],
      "metadata": {
        "id": "wjI9SxIcKPek"
      }
    },
    {
      "cell_type": "code",
      "source": [
        "class Node:\n",
        "  def __init__(self, val):\n",
        "    self.val = val\n",
        "    self.next = None\n",
        "\n",
        "def remove_node(head, target_val):\n",
        "  if head.val == target_val: return head.next\n",
        "  prev = None\n",
        "  current = head\n",
        "\n",
        "  while current.val != target_val:\n",
        "      prev = current\n",
        "      current = current.next\n",
        "  prev.next = current.next\n",
        "\n",
        "  return head"
      ],
      "metadata": {
        "id": "3QS7Js6zKQCq"
      },
      "execution_count": null,
      "outputs": []
    },
    {
      "cell_type": "markdown",
      "source": [
        "insert node\n",
        "\n",
        "Write a function, insert_node, that takes in the head of a linked list, a value, and an index. The function should insert a new node with the value into the list at the specified index. Consider the head of the linked list as index 0. The function should return the head of the resulting linked list.\n",
        "\n",
        "Do this in-place.\n",
        "\n",
        "You may assume that the input list is non-empty and the index is not greater than the length of the input list."
      ],
      "metadata": {
        "id": "p1oX9dvuDEHa"
      }
    },
    {
      "cell_type": "code",
      "source": [
        "class Node:\n",
        "  def __init__(self, val):\n",
        "    self.val = val\n",
        "    self.next = None\n",
        "\n",
        "def insert_node(head, value, index):\n",
        "  insert = Node(value)\n",
        "  if index == 0:\n",
        "    insert.next = head\n",
        "    return insert\n",
        "\n",
        "  current = head\n",
        "  prev = None\n",
        "  count = 0\n",
        "\n",
        "  while count != index:\n",
        "    count += 1\n",
        "    prev = current\n",
        "    current = current.next\n",
        "\n",
        "  prev.next = insert\n",
        "  insert.next = current\n",
        "\n",
        "  return head"
      ],
      "metadata": {
        "id": "86rA4PaMDKW4"
      },
      "execution_count": null,
      "outputs": []
    },
    {
      "cell_type": "markdown",
      "source": [
        "create linked list\n",
        "\n",
        "Write a function, create_linked_list, that takes in a list of values as an argument. The function should create a linked list containing each item of the list as the values of the nodes. The function should return the head of the linked list."
      ],
      "metadata": {
        "id": "KcHJBzYmkQRB"
      }
    },
    {
      "cell_type": "code",
      "source": [
        "class Node:\n",
        "  def __init__(self, val):\n",
        "    self.val = val\n",
        "    self.next = None\n",
        "\n",
        "def create_linked_list(values):\n",
        "  dummy_head = Node(None)\n",
        "  current = dummy_head\n",
        "\n",
        "  for value in values:\n",
        "    new_node = Node(value)\n",
        "    current.next = new_node\n",
        "    current = new_node\n",
        "\n",
        "  return dummy_head.next"
      ],
      "metadata": {
        "id": "CSn5wPeBkVEl"
      },
      "execution_count": null,
      "outputs": []
    },
    {
      "cell_type": "markdown",
      "source": [
        "depth first values\n",
        "\n",
        "Write a function, depth_first_values, that takes in the root of a binary tree. The function should return a list containing all values of the tree in depth-first order."
      ],
      "metadata": {
        "id": "bm-RyaVeXMbr"
      }
    },
    {
      "cell_type": "markdown",
      "source": [
        "iterative solution:"
      ],
      "metadata": {
        "id": "Bbnk2YDdorMa"
      }
    },
    {
      "cell_type": "code",
      "source": [
        "def depth_first_values(root):\n",
        "  if root == None: return []\n",
        "  values = []\n",
        "  stack = [root]\n",
        "\n",
        "  while len(stack) > 0:\n",
        "    current = stack.pop(-1)\n",
        "    values.append(current.val)\n",
        "    if current.right is not None: stack.append(current.right)\n",
        "    if current.left is not None: stack.append(current.left)\n",
        "\n",
        "  return values"
      ],
      "metadata": {
        "id": "xUBhBzs2XIIR"
      },
      "execution_count": null,
      "outputs": []
    },
    {
      "cell_type": "markdown",
      "source": [
        "recursive solution:"
      ],
      "metadata": {
        "id": "spQ_KL6EowN3"
      }
    },
    {
      "cell_type": "code",
      "source": [
        "def depth_first_values(root):\n",
        "  if root is None: return []\n",
        "  right_values = depth_first_values(root.left)\n",
        "  left_values = depth_first_values(root.right)\n",
        "\n",
        "  return [root.val, *right_values, *left_values]"
      ],
      "metadata": {
        "id": "obENz5nRozWl"
      },
      "execution_count": null,
      "outputs": []
    },
    {
      "cell_type": "markdown",
      "source": [
        "breadth first values\n",
        "\n",
        "Write a function, breadth_first_values, that takes in the root of a binary tree. The function should return a list containing all values of the tree in breadth-first order."
      ],
      "metadata": {
        "id": "t5QFEq0env6V"
      }
    },
    {
      "cell_type": "code",
      "source": [
        "class Node:\n",
        "  def __init__(self, val):\n",
        "    self.val = val\n",
        "    self.left = None\n",
        "    self.right = None\n",
        "\n",
        "def breadth_first_values(root):\n",
        "  if root == None: return []\n",
        "  queue = [root]\n",
        "  values = []\n",
        "\n",
        "  while len(queue) > 0:\n",
        "    current = queue.pop(0)\n",
        "    values.append(current.val)\n",
        "\n",
        "    if current.left is not None: queue.append(current.left)\n",
        "    if current.right is not None: queue.append(current.right)\n",
        "\n",
        "  return values\n",
        "\n",
        "a = Node('a')\n",
        "b = Node('b')\n",
        "c = Node('c')\n",
        "d = Node('d')\n",
        "e = Node('e')\n",
        "f = Node('f')\n",
        "\n",
        "a.left = b\n",
        "a.right = c\n",
        "b.left = d\n",
        "b.right = e\n",
        "c.right = f\n",
        "\n",
        "#      a\n",
        "#    /   \\\n",
        "#   b     c\n",
        "#  / \\     \\\n",
        "# d   e     f\n",
        "\n",
        "breadth_first_values(a)\n",
        "#    -> ['a', 'b', 'c', 'd', 'e', 'f']\n"
      ],
      "metadata": {
        "colab": {
          "base_uri": "https://localhost:8080/"
        },
        "id": "3JewOCEvn-e-",
        "outputId": "b881b2c8-62e1-4273-84e6-9efe7d664bb6"
      },
      "execution_count": null,
      "outputs": [
        {
          "output_type": "execute_result",
          "data": {
            "text/plain": [
              "['a', 'b', 'c', 'd', 'e', 'f']"
            ]
          },
          "metadata": {},
          "execution_count": 1
        }
      ]
    },
    {
      "cell_type": "markdown",
      "source": [
        "tree sum\n",
        "\n",
        "Write a function, tree_sum, that takes in the root of a binary tree that contains number values. The function should return the total sum of all values in the tree."
      ],
      "metadata": {
        "id": "c6M9FT6jV9NO"
      }
    },
    {
      "cell_type": "markdown",
      "source": [
        "iterative solution:"
      ],
      "metadata": {
        "id": "tOSLUF4ZWLoR"
      }
    },
    {
      "cell_type": "code",
      "source": [
        "class Node:\n",
        "  def __init__(self, val):\n",
        "    self.val = val\n",
        "    self.left = None\n",
        "    self.right = None\n",
        "\n",
        "from collections import deque\n",
        "\n",
        "def tree_sum(root):\n",
        "  if root == None: return 0\n",
        "  sum = 0\n",
        "  queue = deque([root])\n",
        "\n",
        "  while len(queue) > 0:\n",
        "    current = queue.popleft()\n",
        "    sum = sum + current.val\n",
        "\n",
        "    if current.left is not None: queue.append(current.left)\n",
        "    if current.right is not None: queue.append(current.right)\n",
        "\n",
        "  return sum\n",
        "\n",
        "a = Node(3)\n",
        "b = Node(11)\n",
        "c = Node(4)\n",
        "d = Node(4)\n",
        "e = Node(-2)\n",
        "f = Node(1)\n",
        "\n",
        "a.left = b\n",
        "a.right = c\n",
        "b.left = d\n",
        "b.right = e\n",
        "c.right = f\n",
        "\n",
        "#       3\n",
        "#    /    \\\n",
        "#   11     4\n",
        "#  / \\      \\\n",
        "# 4   -2     1\n",
        "\n",
        "tree_sum(a) # -> 21"
      ],
      "metadata": {
        "colab": {
          "base_uri": "https://localhost:8080/"
        },
        "id": "y2LTAUwWWbme",
        "outputId": "1d1de714-fc77-48bd-ceef-27a62e2e381a"
      },
      "execution_count": null,
      "outputs": [
        {
          "output_type": "execute_result",
          "data": {
            "text/plain": [
              "21"
            ]
          },
          "metadata": {},
          "execution_count": 2
        }
      ]
    },
    {
      "cell_type": "markdown",
      "source": [
        "recursive soltuion:"
      ],
      "metadata": {
        "id": "ZYyAld_bY_g6"
      }
    },
    {
      "cell_type": "code",
      "source": [
        "class Node:\n",
        "  def __init__(self, val):\n",
        "    self.val = val\n",
        "    self.left = None\n",
        "    self.right = None\n",
        "\n",
        "def tree_sum(root):\n",
        "  if root is None: return 0\n",
        "\n",
        "  return root.val + tree_sum(root.left) + tree_sum(root.right)\n",
        "\n",
        "a = Node(1)\n",
        "b = Node(6)\n",
        "c = Node(0)\n",
        "d = Node(3)\n",
        "e = Node(-6)\n",
        "f = Node(2)\n",
        "g = Node(2)\n",
        "h = Node(2)\n",
        "\n",
        "a.left = b\n",
        "a.right = c\n",
        "b.left = d\n",
        "b.right = e\n",
        "c.right = f\n",
        "e.left = g\n",
        "f.right = h\n",
        "\n",
        "#      1\n",
        "#    /   \\\n",
        "#   6     0\n",
        "#  / \\     \\\n",
        "# 3   -6    2\n",
        "#    /       \\\n",
        "#   2         2\n",
        "\n",
        "tree_sum(a) # -> 10"
      ],
      "metadata": {
        "colab": {
          "base_uri": "https://localhost:8080/"
        },
        "id": "r8NA2FofZB7m",
        "outputId": "31b93575-fa05-47b5-9e7b-56447c79f267"
      },
      "execution_count": 3,
      "outputs": [
        {
          "output_type": "execute_result",
          "data": {
            "text/plain": [
              "10"
            ]
          },
          "metadata": {},
          "execution_count": 3
        }
      ]
    },
    {
      "cell_type": "markdown",
      "source": [
        "tree includes\n",
        "\n",
        "Write a function, tree_includes, that takes in the root of a binary tree and a target value. The function should return a boolean indicating whether or not the value is contained in the tree."
      ],
      "metadata": {
        "id": "gOK3EW6K-m98"
      }
    },
    {
      "cell_type": "markdown",
      "source": [
        "iterative solution:"
      ],
      "metadata": {
        "id": "asGIZc58-rYy"
      }
    },
    {
      "cell_type": "code",
      "source": [
        "class Node:\n",
        "  def __init__(self, val):\n",
        "    self.val = val\n",
        "    self.left = None\n",
        "    self.right = None\n",
        "from collections import deque\n",
        "\n",
        "def tree_includes(root, target):\n",
        "  if root == None: return False\n",
        "\n",
        "  queue = deque([root])\n",
        "\n",
        "  while len(queue) > 0:\n",
        "    current = queue.popleft()\n",
        "    if current.val == target:\n",
        "      return True\n",
        "\n",
        "    if current.left is not None: queue.append(current.left)\n",
        "    if current.right is not None: queue.append(current.right)\n",
        "\n",
        "  return False\n",
        "\n",
        "a = Node(\"a\")\n",
        "b = Node(\"b\")\n",
        "c = Node(\"c\")\n",
        "d = Node(\"d\")\n",
        "e = Node(\"e\")\n",
        "f = Node(\"f\")\n",
        "\n",
        "a.left = b\n",
        "a.right = c\n",
        "b.left = d\n",
        "b.right = e\n",
        "c.right = f\n",
        "\n",
        "#      a\n",
        "#    /   \\\n",
        "#   b     c\n",
        "#  / \\     \\\n",
        "# d   e     f\n",
        "\n",
        "tree_includes(a, \"e\") # -> True"
      ],
      "metadata": {
        "colab": {
          "base_uri": "https://localhost:8080/"
        },
        "id": "Lvcf-Sny-qfn",
        "outputId": "e4e51a7d-6b34-42f0-a14d-49714e2a65cd"
      },
      "execution_count": 2,
      "outputs": [
        {
          "output_type": "execute_result",
          "data": {
            "text/plain": [
              "True"
            ]
          },
          "metadata": {},
          "execution_count": 2
        }
      ]
    },
    {
      "cell_type": "markdown",
      "source": [
        "recursive solution:"
      ],
      "metadata": {
        "id": "NA-AIkWz9PNK"
      }
    },
    {
      "cell_type": "code",
      "source": [
        "class Node:\n",
        "  def __init__(self, val):\n",
        "    self.val = val\n",
        "    self.left = None\n",
        "    self.right = None\n",
        "\n",
        "def tree_includes(root, target):\n",
        "  if root is None: return False\n",
        "  if root.val == target: return True\n",
        "\n",
        "  return tree_includes(root.left, target) or tree_includes(root.right, target)\n",
        "\n",
        "\n",
        "a = Node(\"a\")\n",
        "b = Node(\"b\")\n",
        "c = Node(\"c\")\n",
        "d = Node(\"d\")\n",
        "e = Node(\"e\")\n",
        "f = Node(\"f\")\n",
        "g = Node(\"g\")\n",
        "h = Node(\"h\")\n",
        "\n",
        "a.left = b\n",
        "a.right = c\n",
        "b.left = d\n",
        "b.right = e\n",
        "c.right = f\n",
        "e.left = g\n",
        "f.right = h\n",
        "\n",
        "#      a\n",
        "#    /   \\\n",
        "#   b     c\n",
        "#  / \\     \\\n",
        "# d   e     f\n",
        "#    /       \\\n",
        "#   g         h\n",
        "\n",
        "tree_includes(a, \"f\") # -> True\n"
      ],
      "metadata": {
        "colab": {
          "base_uri": "https://localhost:8080/"
        },
        "id": "d8cMqnv59RYN",
        "outputId": "f049901e-7cf5-497c-db15-c2da309357ac"
      },
      "execution_count": 4,
      "outputs": [
        {
          "output_type": "execute_result",
          "data": {
            "text/plain": [
              "True"
            ]
          },
          "metadata": {},
          "execution_count": 4
        }
      ]
    },
    {
      "cell_type": "markdown",
      "source": [
        "tree min value\n",
        "\n",
        "Write a function, tree_min_value, that takes in the root of a binary tree that contains number values. The function should return the minimum value within the tree.\n",
        "\n",
        "You may assume that the input tree is non-empty."
      ],
      "metadata": {
        "id": "KzxtHjCTVuEp"
      }
    },
    {
      "cell_type": "markdown",
      "source": [
        "iterative solution:"
      ],
      "metadata": {
        "id": "loa4OjDqV0R8"
      }
    },
    {
      "cell_type": "code",
      "source": [
        "class Node:\n",
        "  def __init__(self, val):\n",
        "    self.val = val\n",
        "    self.left = None\n",
        "    self.right = None\n",
        "\n",
        "from collections import deque\n",
        "\n",
        "def tree_min_value(root):\n",
        "  queue = deque([root])\n",
        "  min = root.val\n",
        "\n",
        "  while len(queue) > 0:\n",
        "    current = queue.popleft()\n",
        "    if current.val < min: min = current.val\n",
        "\n",
        "    if current.left is not None: queue.append(current.left)\n",
        "    if current.right is not None: queue.append(current.right)\n",
        "\n",
        "\n",
        "  return min"
      ],
      "metadata": {
        "id": "LJNzMo5EVw7g"
      },
      "execution_count": null,
      "outputs": []
    }
  ]
}