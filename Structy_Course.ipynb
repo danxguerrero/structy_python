{
  "nbformat": 4,
  "nbformat_minor": 0,
  "metadata": {
    "colab": {
      "provenance": [],
      "authorship_tag": "ABX9TyPQyutfgQVcvKxscRErYUWk",
      "include_colab_link": true
    },
    "kernelspec": {
      "name": "python3",
      "display_name": "Python 3"
    },
    "language_info": {
      "name": "python"
    }
  },
  "cells": [
    {
      "cell_type": "markdown",
      "metadata": {
        "id": "view-in-github",
        "colab_type": "text"
      },
      "source": [
        "<a href=\"https://colab.research.google.com/github/danxguerrero/structy_python/blob/main/Structy_Course.ipynb\" target=\"_parent\"><img src=\"https://colab.research.google.com/assets/colab-badge.svg\" alt=\"Open In Colab\"/></a>"
      ]
    },
    {
      "cell_type": "markdown",
      "source": [
        "max value\n",
        "\n",
        "Write a function, max_value, that takes in list of numbers as an argument. The function should return the largest number in the list.\n",
        "\n",
        "Solve this without using any built-in list methods.\n",
        "\n",
        "You can assume that the list is non-empty."
      ],
      "metadata": {
        "id": "ttLlkAWt_bas"
      }
    },
    {
      "cell_type": "code",
      "execution_count": null,
      "metadata": {
        "colab": {
          "base_uri": "https://localhost:8080/"
        },
        "id": "hr0kuF46-k7d",
        "outputId": "09f0df38-7ef5-4d28-ea67-2b4bceda1437"
      },
      "outputs": [
        {
          "output_type": "stream",
          "name": "stdout",
          "text": [
            "10\n",
            "40.3\n"
          ]
        }
      ],
      "source": [
        "def max_value(nums):\n",
        "  largest = nums[0]\n",
        "  for num in nums:\n",
        "    if num > largest:\n",
        "      largest = num\n",
        "  return largest\n",
        "\n",
        "print(max_value([4, 7, 2, 8, 10, 9])) # -> 10\n",
        "print(max_value([10, 5, 40, 40.3]))# -> 40.3\n"
      ]
    },
    {
      "cell_type": "markdown",
      "source": [
        "is prime\n",
        "\n",
        "Write a function, is_prime, that takes in a number as an argument. The function should return a boolean indicating whether or not the given number is prime.\n",
        "\n",
        "A prime number is a number that is only divisible by two distinct numbers: 1 and itself.\n",
        "\n",
        "For example, 7 is a prime because it is only divisible by 1 and 7. For example, 6 is not a prime because it is divisible by 1, 2, 3, and 6.\n",
        "\n",
        "You can assume that the input number is a positive integer."
      ],
      "metadata": {
        "id": "Z-Hoxy6NJru4"
      }
    },
    {
      "cell_type": "code",
      "source": [
        "from math import sqrt, floor\n",
        "\n",
        "def is_prime(n):\n",
        "  if n < 2:\n",
        "    return False\n",
        "\n",
        "  for x in range(2, floor(sqrt(n)) + 1):\n",
        "    if n % x == 0:\n",
        "      return False\n",
        "\n",
        "  return True\n",
        "\n",
        "print(is_prime(2)) # -> True\n",
        "print(is_prime(3)) # -> True\n",
        "print(is_prime(4)) # -> False"
      ],
      "metadata": {
        "colab": {
          "base_uri": "https://localhost:8080/"
        },
        "id": "jP5NtJUZJ1QD",
        "outputId": "99f14e2d-5f99-45cf-c896-e9f6d94a9ec1"
      },
      "execution_count": null,
      "outputs": [
        {
          "output_type": "stream",
          "name": "stdout",
          "text": [
            "True\n",
            "True\n",
            "False\n"
          ]
        }
      ]
    },
    {
      "cell_type": "markdown",
      "source": [
        "anagrams\n",
        "\n",
        "Write a function, anagrams, that takes in two strings as arguments. The function should return a boolean indicating whether or not the strings are anagrams. Anagrams are strings that contain the same characters, but in any order."
      ],
      "metadata": {
        "id": "NXxO_rTb_s8d"
      }
    },
    {
      "cell_type": "code",
      "source": [
        "def anagrams(s1, s2):\n",
        "  return ''.join(sorted(s1)) == ''.join(sorted(s2))\n",
        "\n",
        "print(anagrams('restful', 'fluster')) # -> True\n",
        "print(anagrams('cats', 'tocs')) # -> False\n",
        "print(anagrams('monkeyswrite', 'newyorktimes')) # -> True"
      ],
      "metadata": {
        "colab": {
          "base_uri": "https://localhost:8080/"
        },
        "id": "uDTUgmYL__wl",
        "outputId": "9db11185-0e7c-4187-87f6-4d68793b89ac"
      },
      "execution_count": 2,
      "outputs": [
        {
          "output_type": "stream",
          "name": "stdout",
          "text": [
            "True\n",
            "False\n",
            "True\n"
          ]
        }
      ]
    }
  ]
}