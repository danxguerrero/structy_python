{
  "nbformat": 4,
  "nbformat_minor": 0,
  "metadata": {
    "colab": {
      "provenance": [],
      "authorship_tag": "ABX9TyOA+ExEZwrkAdbCXUJQzAp7",
      "include_colab_link": true
    },
    "kernelspec": {
      "name": "python3",
      "display_name": "Python 3"
    },
    "language_info": {
      "name": "python"
    }
  },
  "cells": [
    {
      "cell_type": "markdown",
      "metadata": {
        "id": "view-in-github",
        "colab_type": "text"
      },
      "source": [
        "<a href=\"https://colab.research.google.com/github/danxguerrero/structy_python/blob/main/Structy_Course.ipynb\" target=\"_parent\"><img src=\"https://colab.research.google.com/assets/colab-badge.svg\" alt=\"Open In Colab\"/></a>"
      ]
    },
    {
      "cell_type": "markdown",
      "source": [
        "# Introduction"
      ],
      "metadata": {
        "id": "elqxGhnhm_5M"
      }
    },
    {
      "cell_type": "markdown",
      "source": [
        "max value\n",
        "\n",
        "Write a function, max_value, that takes in list of numbers as an argument. The function should return the largest number in the list.\n",
        "\n",
        "Solve this without using any built-in list methods.\n",
        "\n",
        "You can assume that the list is non-empty."
      ],
      "metadata": {
        "id": "ttLlkAWt_bas"
      }
    },
    {
      "cell_type": "code",
      "execution_count": null,
      "metadata": {
        "colab": {
          "base_uri": "https://localhost:8080/"
        },
        "id": "hr0kuF46-k7d",
        "outputId": "09f0df38-7ef5-4d28-ea67-2b4bceda1437"
      },
      "outputs": [
        {
          "output_type": "stream",
          "name": "stdout",
          "text": [
            "10\n",
            "40.3\n"
          ]
        }
      ],
      "source": [
        "def max_value(nums):\n",
        "  largest = nums[0]\n",
        "  for num in nums:\n",
        "    if num > largest:\n",
        "      largest = num\n",
        "  return largest\n",
        "\n",
        "print(max_value([4, 7, 2, 8, 10, 9])) # -> 10\n",
        "print(max_value([10, 5, 40, 40.3]))# -> 40.3"
      ]
    },
    {
      "cell_type": "markdown",
      "source": [
        "longest word\n",
        "\n",
        "Write a function, longest_word, that takes in a sentence string as an argument. The function should return the longest word in the sentence. If there is a tie, return the word that occurs later in the sentence.\n",
        "\n",
        "You can assume that the sentence is non-empty."
      ],
      "metadata": {
        "id": "KoldiyNrrq60"
      }
    },
    {
      "cell_type": "code",
      "source": [
        "def longest_word(sentence):\n",
        "  words = sentence.split(\" \")\n",
        "  longest = words[0]\n",
        "\n",
        "  for word in words[1:]:\n",
        "    if len(word) >= len(longest):\n",
        "      longest = word\n",
        "\n",
        "  return longest\n",
        "\n",
        "longest_word(\"the quick brown fox jumped over the lazy dog\") # -> \"jumped\""
      ],
      "metadata": {
        "colab": {
          "base_uri": "https://localhost:8080/",
          "height": 35
        },
        "id": "IxdloYv4rs39",
        "outputId": "e1bf3632-c07c-4478-b0eb-3cdc013a3b95"
      },
      "execution_count": null,
      "outputs": [
        {
          "output_type": "execute_result",
          "data": {
            "text/plain": [
              "'jumped'"
            ],
            "application/vnd.google.colaboratory.intrinsic+json": {
              "type": "string"
            }
          },
          "metadata": {},
          "execution_count": 1
        }
      ]
    },
    {
      "cell_type": "markdown",
      "source": [
        "is prime\n",
        "\n",
        "Write a function, is_prime, that takes in a number as an argument. The function should return a boolean indicating whether or not the given number is prime.\n",
        "\n",
        "A prime number is a number that is only divisible by two distinct numbers: 1 and itself.\n",
        "\n",
        "For example, 7 is a prime because it is only divisible by 1 and 7. For example, 6 is not a prime because it is divisible by 1, 2, 3, and 6.\n",
        "\n",
        "You can assume that the input number is a positive integer."
      ],
      "metadata": {
        "id": "Z-Hoxy6NJru4"
      }
    },
    {
      "cell_type": "code",
      "source": [
        "from math import sqrt, floor\n",
        "\n",
        "def is_prime(n):\n",
        "  if n < 2:\n",
        "    return False\n",
        "\n",
        "  for x in range(2, floor(sqrt(n)) + 1):\n",
        "    if n % x == 0:\n",
        "      return False\n",
        "\n",
        "  return True\n",
        "\n",
        "print(is_prime(2)) # -> True\n",
        "print(is_prime(3)) # -> True\n",
        "print(is_prime(4)) # -> False"
      ],
      "metadata": {
        "colab": {
          "base_uri": "https://localhost:8080/"
        },
        "id": "jP5NtJUZJ1QD",
        "outputId": "99f14e2d-5f99-45cf-c896-e9f6d94a9ec1"
      },
      "execution_count": null,
      "outputs": [
        {
          "output_type": "stream",
          "name": "stdout",
          "text": [
            "True\n",
            "True\n",
            "False\n"
          ]
        }
      ]
    },
    {
      "cell_type": "markdown",
      "source": [
        "fizz buzz\n",
        "\n",
        "Write a function, fizz_buzz, that takes in a number n as an argument. The function should return a list containing numbers from 1 to n, replacing certain numbers according to the following rules:\n",
        "\n",
        "if the number is divisible by 3, make the element \"fizz\"\n",
        "if the number is divisible by 5, make the element \"buzz\"\n",
        "if the number is divisible by 3 and 5, make the element \"fizzbuzz\""
      ],
      "metadata": {
        "id": "YDsSKFdJS8mm"
      }
    },
    {
      "cell_type": "code",
      "source": [
        "def fizz_buzz(n):\n",
        "  res = []\n",
        "  for i in range(1,n + 1):\n",
        "    if i % 3 == 0 and i % 5 == 0:\n",
        "      res.append(\"fizzbuzz\")\n",
        "    elif i % 3 == 0:\n",
        "      res.append(\"fizz\")\n",
        "    elif i % 5 == 0:\n",
        "      res.append(\"buzz\")\n",
        "    else:\n",
        "      res.append(i)\n",
        "  return res\n",
        "\n",
        "fizz_buzz(32) # -> [\n",
        "#   1,      2,          \"fizz\",     4,\n",
        "#   \"buzz\", \"fizz\",     7,          8,\n",
        "#   \"fizz\", \"buzz\",     11,         \"fizz\",\n",
        "#   13,     14,         \"fizzbuzz\", 16,\n",
        "#   17,     \"fizz\",     19,         \"buzz\",\n",
        "#   \"fizz\", 22,         23,         \"fizz\",\n",
        "#   \"buzz\", 26,         \"fizz\",     28,\n",
        "#   29,     \"fizzbuzz\", 31,         32\n",
        "# ]\n"
      ],
      "metadata": {
        "colab": {
          "base_uri": "https://localhost:8080/"
        },
        "id": "CDutcJ8SS-OS",
        "outputId": "f1bdc3ae-3138-4f5c-99b9-f21bf81b9295"
      },
      "execution_count": null,
      "outputs": [
        {
          "output_type": "execute_result",
          "data": {
            "text/plain": [
              "[1,\n",
              " 2,\n",
              " 'fizz',\n",
              " 4,\n",
              " 'buzz',\n",
              " 'fizz',\n",
              " 7,\n",
              " 8,\n",
              " 'fizz',\n",
              " 'buzz',\n",
              " 11,\n",
              " 'fizz',\n",
              " 13,\n",
              " 14,\n",
              " 'fizzbuzz',\n",
              " 16,\n",
              " 17,\n",
              " 'fizz',\n",
              " 19,\n",
              " 'buzz',\n",
              " 'fizz',\n",
              " 22,\n",
              " 23,\n",
              " 'fizz',\n",
              " 'buzz',\n",
              " 26,\n",
              " 'fizz',\n",
              " 28,\n",
              " 29,\n",
              " 'fizzbuzz',\n",
              " 31,\n",
              " 32]"
            ]
          },
          "metadata": {},
          "execution_count": 1
        }
      ]
    },
    {
      "cell_type": "markdown",
      "source": [
        "pairs\n",
        "\n",
        "Write a function, pairs, that takes in a list as an argument. The function should return an list contain all unique pairs of elements.\n",
        "\n",
        "You may return the pairs in any order and the order of elements within a single pair does not matter.\n",
        "\n",
        "You can assume that the input list contains unique elements."
      ],
      "metadata": {
        "id": "XB8_mB3VzhrU"
      }
    },
    {
      "cell_type": "code",
      "source": [
        "def pairs(elements):\n",
        "  pairs = []\n",
        "\n",
        "  for i in range(len(elements)):\n",
        "    for j in range(i + 1, len(elements)):\n",
        "      pair = [elements[i], elements[j]]\n",
        "      pairs.append(pair)\n",
        "\n",
        "  return pairs\n",
        "\n",
        "\n",
        "pairs([\"a\", \"b\", \"c\"]) # ->\n",
        "# [\n",
        "#    [\"a\", \"b\"],\n",
        "#    [\"a\", \"c\"],\n",
        "#    [\"b\", \"c\"]\n",
        "# ]"
      ],
      "metadata": {
        "colab": {
          "base_uri": "https://localhost:8080/"
        },
        "id": "OptcOhxX0WM6",
        "outputId": "f3d6adb1-d2a9-4af4-cd1f-d3675f690b01"
      },
      "execution_count": null,
      "outputs": [
        {
          "output_type": "execute_result",
          "data": {
            "text/plain": [
              "[['a', 'b'], ['a', 'c'], ['b', 'c']]"
            ]
          },
          "metadata": {},
          "execution_count": 1
        }
      ]
    },
    {
      "cell_type": "markdown",
      "source": [
        "# Hashing"
      ],
      "metadata": {
        "id": "pvEXd1OwgmtN"
      }
    },
    {
      "cell_type": "markdown",
      "source": [
        "anagrams\n",
        "\n",
        "Write a function, anagrams, that takes in two strings as arguments. The function should return a boolean indicating whether or not the strings are anagrams. Anagrams are strings that contain the same characters, but in any order."
      ],
      "metadata": {
        "id": "NXxO_rTb_s8d"
      }
    },
    {
      "cell_type": "code",
      "source": [
        "def anagrams(s1, s2):\n",
        "  return ''.join(sorted(s1)) == ''.join(sorted(s2))\n",
        "\n",
        "print(anagrams('restful', 'fluster')) # -> True\n",
        "print(anagrams('cats', 'tocs')) # -> False\n",
        "print(anagrams('monkeyswrite', 'newyorktimes')) # -> True"
      ],
      "metadata": {
        "colab": {
          "base_uri": "https://localhost:8080/"
        },
        "id": "uDTUgmYL__wl",
        "outputId": "9db11185-0e7c-4187-87f6-4d68793b89ac"
      },
      "execution_count": null,
      "outputs": [
        {
          "output_type": "stream",
          "name": "stdout",
          "text": [
            "True\n",
            "False\n",
            "True\n"
          ]
        }
      ]
    },
    {
      "cell_type": "markdown",
      "source": [
        "most frequent char\n",
        "\n",
        "Write a function, most_frequent_char, that takes in a string as an argument. The function should return the most frequent character of the string. If there are ties, return the character that appears earlier in the string.\n",
        "\n",
        "You can assume that the input string is non-empty."
      ],
      "metadata": {
        "id": "vqVtTzFkxal8"
      }
    },
    {
      "cell_type": "code",
      "source": [
        "from collections import Counter\n",
        "\n",
        "def most_frequent_char(s):\n",
        "  count = Counter(s)\n",
        "\n",
        "  most_frequent = None\n",
        "\n",
        "  for letter in s:\n",
        "    if most_frequent is None or count[letter] > count[most_frequent]:\n",
        "      most_frequent = letter\n",
        "\n",
        "  return most_frequent\n",
        "\n",
        "print(most_frequent_char('bookeeper')) # -> 'e'\n",
        "print(most_frequent_char('david')) # -> 'd'\n",
        "print(most_frequent_char('abby')) # -> 'b'"
      ],
      "metadata": {
        "colab": {
          "base_uri": "https://localhost:8080/"
        },
        "id": "TJfYPZcZxe4s",
        "outputId": "bcf77c83-f511-4435-c27c-8f55940b3e18"
      },
      "execution_count": null,
      "outputs": [
        {
          "output_type": "stream",
          "name": "stdout",
          "text": [
            "e\n",
            "d\n",
            "b\n"
          ]
        }
      ]
    },
    {
      "cell_type": "markdown",
      "source": [
        "pair sum\n",
        "\n",
        "Write a function, pair_sum, that takes in a list and a target sum as arguments. The function should return a tuple containing a pair of indices whose elements sum to the given target. The indices returned must be unique.\n",
        "\n",
        "Be sure to return the indices, not the elements themselves.\n",
        "\n",
        "There is guaranteed to be one such pair that sums to the target."
      ],
      "metadata": {
        "id": "B5PZZIEei-SI"
      }
    },
    {
      "cell_type": "code",
      "source": [
        "def pair_sum(numbers, target_sum):\n",
        "  previous_numbers = {}\n",
        "  for index, num in enumerate(numbers):\n",
        "    compliment = target_sum - num\n",
        "\n",
        "    if compliment in previous_numbers:\n",
        "      return (index, previous_numbers[compliment])\n",
        "\n",
        "    previous_numbers[num] = index\n",
        "\n",
        "print(pair_sum([3, 2, 5, 4, 1], 8)) # -> (0, 2)\n",
        "print(pair_sum([4, 7, 9, 2, 5, 1], 5)) # -> (0, 5)"
      ],
      "metadata": {
        "colab": {
          "base_uri": "https://localhost:8080/"
        },
        "id": "qUIYDy0AjJxJ",
        "outputId": "106dd35d-f6b1-4e81-84af-8c275fc5327e"
      },
      "execution_count": null,
      "outputs": [
        {
          "output_type": "stream",
          "name": "stdout",
          "text": [
            "(2, 0)\n",
            "(5, 0)\n"
          ]
        }
      ]
    },
    {
      "cell_type": "markdown",
      "source": [
        "pair product\n",
        "\n",
        "Write a function, pair_product, that takes in a list and a target product as arguments. The function should return a tuple containing a pair of indices whose elements multiply to the given target. The indices returned must be unique.\n",
        "\n",
        "Be sure to return the indices, not the elements themselves.\n",
        "\n",
        "There is guaranteed to be one such pair whose product is the target."
      ],
      "metadata": {
        "id": "ify3qby__M5H"
      }
    },
    {
      "cell_type": "code",
      "source": [
        "def pair_product(numbers, target_product):\n",
        "  previous_numbers = {}\n",
        "\n",
        "  for index, num in enumerate(numbers):\n",
        "    complement = target_product / num\n",
        "    if complement in previous_numbers:\n",
        "      return (previous_numbers[complement], index)\n",
        "    previous_numbers[num] = index\n",
        "\n",
        "print(pair_product([3, 2, 5, 4, 1], 8)) # -> (1, 3)\n",
        "print(pair_product([3, 2, 5, 4, 1], 10)) # -> (1, 2)"
      ],
      "metadata": {
        "colab": {
          "base_uri": "https://localhost:8080/"
        },
        "id": "uXq0--Am_PAy",
        "outputId": "b357ff7e-591c-453a-d0c1-9f44d5358e2b"
      },
      "execution_count": null,
      "outputs": [
        {
          "output_type": "stream",
          "name": "stdout",
          "text": [
            "(1, 3)\n",
            "(1, 2)\n"
          ]
        }
      ]
    },
    {
      "cell_type": "markdown",
      "source": [
        "intersection\n",
        "\n",
        "Write a function, intersection, that takes in two lists, a,b, as arguments. The function should return a new list containing elements that are in both of the two lists.\n",
        "\n",
        "You may assume that each input list does not contain duplicate elements."
      ],
      "metadata": {
        "id": "DnHJB4LeSyBN"
      }
    },
    {
      "cell_type": "code",
      "source": [
        "def intersection(a, b):\n",
        "  set_a = set(a)\n",
        "  set_b = set(b)\n",
        "  intersect = set_a.intersection(set_b)\n",
        "  return list(intersect)\n",
        "\n",
        "intersection([4,2,1,6], [3,6,9,2,10]) # -> [2,6]"
      ],
      "metadata": {
        "colab": {
          "base_uri": "https://localhost:8080/"
        },
        "id": "ZI_4B9tZS7h5",
        "outputId": "19ef2958-a0cf-467c-ad17-a51d76f8932e"
      },
      "execution_count": null,
      "outputs": [
        {
          "output_type": "execute_result",
          "data": {
            "text/plain": [
              "[2, 6]"
            ]
          },
          "metadata": {},
          "execution_count": 2
        }
      ]
    },
    {
      "cell_type": "markdown",
      "source": [
        "exclusive items\n",
        "\n",
        "Write a function, exclusive_items, that takes in two lists, a,b, as arguments. The function should return a new list containing elements that are in either list but not both lists.\n",
        "\n",
        "You may assume that each input list does not contain duplicate elements."
      ],
      "metadata": {
        "id": "veDRRc2GX3gj"
      }
    },
    {
      "cell_type": "code",
      "source": [
        "def exclusive_items(a, b):\n",
        "  aSet = set(a)\n",
        "  bSet = set(b)\n",
        "\n",
        "  res = [*aSet.difference(b),*bSet.difference(a)]\n",
        "  return res\n",
        "\n",
        "exclusive_items([4,2,1,6], [3,6,9,2,10]) # -> [4,1,3,9,10]"
      ],
      "metadata": {
        "colab": {
          "base_uri": "https://localhost:8080/"
        },
        "id": "C5EDQ9D7X5FX",
        "outputId": "9805e1e5-2367-44b6-a500-75965ccb55c0"
      },
      "execution_count": null,
      "outputs": [
        {
          "output_type": "execute_result",
          "data": {
            "text/plain": [
              "[1, 4, 3, 9, 10]"
            ]
          },
          "metadata": {},
          "execution_count": 1
        }
      ]
    },
    {
      "cell_type": "markdown",
      "source": [
        "all unique\n",
        "\n",
        "Write a function, all_unique, that takes in a list. The function should return a boolean indicating whether or not the list contains unique items."
      ],
      "metadata": {
        "id": "rquu5bsISGCV"
      }
    },
    {
      "cell_type": "code",
      "source": [
        "def all_unique(items):\n",
        "  seen = set()\n",
        "\n",
        "  for item in items:\n",
        "    if item in seen:\n",
        "      return False\n",
        "    else:\n",
        "      seen.add(item)\n",
        "\n",
        "  return True\n",
        "\n",
        "all_unique([\"q\", \"r\", \"s\", \"a\"]) # -> True"
      ],
      "metadata": {
        "colab": {
          "base_uri": "https://localhost:8080/"
        },
        "id": "jFitATf6SJd1",
        "outputId": "277e5784-d085-4461-a17d-ed1c4babce4b"
      },
      "execution_count": null,
      "outputs": [
        {
          "output_type": "execute_result",
          "data": {
            "text/plain": [
              "True"
            ]
          },
          "metadata": {},
          "execution_count": 1
        }
      ]
    },
    {
      "cell_type": "markdown",
      "source": [
        "intersection with dupes\n",
        "\n",
        "Write a function, intersection_with_dupes, that takes in two lists, a,b, as arguments. The function should return a new list containing elements that are common to both input lists. The elements in the result should appear as many times as they occur in both input lists.\n",
        "\n",
        "You can return the result in any order."
      ],
      "metadata": {
        "id": "C8J-mQBDiFsx"
      }
    },
    {
      "cell_type": "code",
      "source": [
        "def intersection_with_dupes(a, b):\n",
        "  freq = dict()\n",
        "  res = []\n",
        "\n",
        "  if len(a) < len(b):\n",
        "    shorter = b\n",
        "    longer = a\n",
        "  else:\n",
        "    shorter = a\n",
        "    longer = b\n",
        "\n",
        "  for i in range(len(shorter)):\n",
        "    freq.setdefault(shorter[i], 0)\n",
        "    freq[shorter[i]] += 1\n",
        "\n",
        "  for i in range(len(longer)):\n",
        "    if longer[i] in freq:\n",
        "      res.append(longer[i])\n",
        "      freq[longer[i]] -= 1\n",
        "\n",
        "  return res\n",
        "\n",
        "intersection_with_dupes(\n",
        "  [\"a\", \"b\", \"c\", \"b\"],\n",
        "  [\"x\", \"y\", \"b\", \"b\"]\n",
        ") # -> [\"b\", \"b\"]"
      ],
      "metadata": {
        "colab": {
          "base_uri": "https://localhost:8080/"
        },
        "id": "KHIZBal-iHWk",
        "outputId": "1c947ca9-3a08-46c2-8b46-bb985e96e208"
      },
      "execution_count": null,
      "outputs": [
        {
          "output_type": "execute_result",
          "data": {
            "text/plain": [
              "['b', 'b']"
            ]
          },
          "metadata": {},
          "execution_count": 3
        }
      ]
    },
    {
      "cell_type": "markdown",
      "source": [
        "# Beginner Recursion"
      ],
      "metadata": {
        "id": "zw8NH9hKjk6j"
      }
    },
    {
      "cell_type": "markdown",
      "source": [
        "sum numbers recursive\n",
        "\n",
        "Write a function sumNumbersRecursive that takes in an array of numbers and returns the sum of all the numbers in the array. All elements will be integers. Solve this recursively."
      ],
      "metadata": {
        "id": "x1wYZgbNl7Jv"
      }
    },
    {
      "cell_type": "code",
      "source": [
        "def sum_numbers_recursive(numbers):\n",
        "  if numbers == []: return 0\n",
        "  return numbers[0] + sum_numbers_recursive(numbers[1:])\n",
        "\n",
        "print(sum_numbers_recursive([5, 2, 9, 10])) # -> 26\n",
        "print(sum_numbers_recursive([1, -1, 1, -1, 1, -1, 1])) # -> 1"
      ],
      "metadata": {
        "colab": {
          "base_uri": "https://localhost:8080/"
        },
        "id": "jyRl5Nmzl__x",
        "outputId": "2f9ea007-dcec-44e6-d966-1a7af4d6a07f"
      },
      "execution_count": null,
      "outputs": [
        {
          "output_type": "stream",
          "name": "stdout",
          "text": [
            "26\n",
            "1\n"
          ]
        }
      ]
    },
    {
      "cell_type": "markdown",
      "source": [
        "factorial\n",
        "\n",
        "Write a function, factorial, that takes in a number n and returns the factorial of that number. The factorial of n is the product of all the positive numbers less than or equal to n. You must solve this recursively.\n",
        "\n",
        "\n",
        "For example, the factorial of 6 is:\n",
        "\n",
        "6 * 5 * 4 * 3 * 2 * 1 = 720\n",
        "You can assume that n is a non-negative integer. Note that the factorial of 0 is defined to be 1"
      ],
      "metadata": {
        "id": "Efk0byyt0VcV"
      }
    },
    {
      "cell_type": "code",
      "source": [
        "def factorial(n):\n",
        "  if n == 0: return 1\n",
        "  return n * factorial(n - 1)\n",
        "\n",
        "print(factorial(3)) # -> 6\n",
        "print(factorial(6)) # -> 720"
      ],
      "metadata": {
        "colab": {
          "base_uri": "https://localhost:8080/"
        },
        "id": "4eMK6uRF1R3K",
        "outputId": "7d809106-0ce0-45f0-bf82-b5a484b2632b"
      },
      "execution_count": null,
      "outputs": [
        {
          "output_type": "stream",
          "name": "stdout",
          "text": [
            "6\n",
            "720\n"
          ]
        }
      ]
    },
    {
      "cell_type": "markdown",
      "source": [
        "sum of lengths\n",
        "\n",
        "Write a function sumOfLengths that takes in a list of strings and returns the total length of the strings.\n",
        "\n",
        "You must solve this recursively."
      ],
      "metadata": {
        "id": "uXFtv0MFCkNq"
      }
    },
    {
      "cell_type": "code",
      "source": [
        "def sum_of_lengths(strings):\n",
        "  if strings == []: return 0\n",
        "  return len(strings[0]) + sum_of_lengths(strings[1:])\n",
        "\n",
        "print(sum_of_lengths(['goat', 'cat', 'purple'])) # -> 13\n",
        "print(sum_of_lengths([])) # -> 0\n",
        "print(sum_of_lengths(['', ' ', '  ', '   ', '    ', '     '])) # -> 15"
      ],
      "metadata": {
        "colab": {
          "base_uri": "https://localhost:8080/"
        },
        "id": "m2TYTNLhCk1L",
        "outputId": "6e7ec30c-52e1-41c6-e837-8d22d9211afd"
      },
      "execution_count": null,
      "outputs": [
        {
          "output_type": "stream",
          "name": "stdout",
          "text": [
            "13\n",
            "0\n",
            "15\n"
          ]
        }
      ]
    },
    {
      "cell_type": "markdown",
      "source": [
        "reverse string recursive\n",
        "\n",
        "Write a function, reverse_string, that takes in a string as an argument. The function should return the string with its characters in reverse order. You must do this recursively."
      ],
      "metadata": {
        "id": "v7SCOilMEHij"
      }
    },
    {
      "cell_type": "code",
      "source": [
        "def reverse_string(s):\n",
        "  if len(s) == 0: return \"\"\n",
        "  return s[-1] + reverse_string(s[:-1])\n",
        "\n",
        "print(reverse_string(\"hello\")) # -> \"olleh\"\n",
        "print(reverse_string(\"stopwatch\")) # -> \"hctawpots\"\n",
        "print(reverse_string(\"\")) # -> \"\""
      ],
      "metadata": {
        "colab": {
          "base_uri": "https://localhost:8080/"
        },
        "id": "_xjeZLsCEIDb",
        "outputId": "ee41b8ef-c480-4b87-e0b5-43e42430f92e"
      },
      "execution_count": null,
      "outputs": [
        {
          "output_type": "stream",
          "name": "stdout",
          "text": [
            "olleh\n",
            "hctawpots\n",
            "\n"
          ]
        }
      ]
    },
    {
      "cell_type": "markdown",
      "source": [
        "palindrome recursive\n",
        "\n",
        "Write a function, palindrome, that takes in a string and returns a boolean indicating whether or not the string is the same forwards and backwards.\n",
        "\n",
        "You must solve this recursively."
      ],
      "metadata": {
        "id": "6hVaL-A9iVut"
      }
    },
    {
      "cell_type": "code",
      "source": [
        "def palindrome(s):\n",
        "  if len(s) <= 1: return True\n",
        "  if s[0] != s[-1]: return False\n",
        "  return palindrome(s[1:-1])\n",
        "\n",
        "print(palindrome(\"pop\")) # -> True\n",
        "print(palindrome(\"abcbca\")) # -> False\n",
        "print(palindrome(\"a\")) # -> True\n",
        "print(palindrome(\"noon\")) # -> True"
      ],
      "metadata": {
        "colab": {
          "base_uri": "https://localhost:8080/"
        },
        "id": "vsvizRtnib0w",
        "outputId": "d796ce29-96b1-48e4-b398-791e9b278fa4"
      },
      "execution_count": null,
      "outputs": [
        {
          "output_type": "stream",
          "name": "stdout",
          "text": [
            "True\n",
            "False\n",
            "True\n",
            "True\n"
          ]
        }
      ]
    },
    {
      "cell_type": "markdown",
      "source": [
        "fibonacci\n",
        "\n",
        "Write a function, fibonacci, that takes in a number argument, n, and returns the n-th number of the Fibonacci sequence.\n",
        "\n",
        "The 0-th number of the sequence is 0.\n",
        "\n",
        "The 1-st number of the sequence is 1.\n",
        "\n",
        "To generate further numbers of the sequence, calculate the sum of previous two numbers.\n",
        "\n",
        "You must solve this recursively."
      ],
      "metadata": {
        "id": "9VgT1EOZVP8f"
      }
    },
    {
      "cell_type": "code",
      "source": [
        "def fibonacci(n):\n",
        "  if n == 0: return 0\n",
        "  if n == 1: return 1\n",
        "  return fibonacci(n - 1) + fibonacci(n - 2)\n",
        "\n",
        "print(fibonacci(5)) # -> 5\n",
        "print(fibonacci(10)) # -> 55"
      ],
      "metadata": {
        "colab": {
          "base_uri": "https://localhost:8080/"
        },
        "id": "7vIUM1ffVWJ-",
        "outputId": "ea42d29f-26a1-428a-d77e-965ebce7aed9"
      },
      "execution_count": null,
      "outputs": [
        {
          "output_type": "stream",
          "name": "stdout",
          "text": [
            "5\n",
            "55\n"
          ]
        }
      ]
    },
    {
      "cell_type": "markdown",
      "source": [
        "# Linked List I"
      ],
      "metadata": {
        "id": "UGJzp3NuinhR"
      }
    },
    {
      "cell_type": "markdown",
      "source": [
        "linked list values\n",
        "\n",
        "Write a function, linked_list_values, that takes in the head of a linked list as an argument. The function should return a list containing all values of the nodes in the linked list."
      ],
      "metadata": {
        "id": "GMk1suEc0f6S"
      }
    },
    {
      "cell_type": "code",
      "source": [
        "class Node:\n",
        "  def __init__(self, val):\n",
        "    self.val = val\n",
        "    self.next = None\n",
        "\n",
        "def linked_list_values(head):\n",
        "  values = []\n",
        "  current = head\n",
        "\n",
        "  while current is not None:\n",
        "    values.append(current.val)\n",
        "    current = current.next\n",
        "\n",
        "\n",
        "  return values\n",
        "\n",
        "a = Node(\"a\")\n",
        "b = Node(\"b\")\n",
        "c = Node(\"c\")\n",
        "d = Node(\"d\")\n",
        "\n",
        "a.next = b\n",
        "b.next = c\n",
        "c.next = d\n",
        "\n",
        "# a -> b -> c -> d\n",
        "\n",
        "print(linked_list_values(a)) # -> [ 'a', 'b', 'c', 'd' ]\n"
      ],
      "metadata": {
        "colab": {
          "base_uri": "https://localhost:8080/"
        },
        "id": "pO8jlafv0heY",
        "outputId": "d00473fc-8bbb-4c6b-b5e4-ee6db59843f0"
      },
      "execution_count": null,
      "outputs": [
        {
          "output_type": "stream",
          "name": "stdout",
          "text": [
            "['a', 'b', 'c', 'd']\n"
          ]
        }
      ]
    },
    {
      "cell_type": "markdown",
      "source": [
        "sum list\n",
        "\n",
        "Write a function, sum_list, that takes in the head of a linked list containing numbers as an argument. The function should return the total sum of all values in the linked list."
      ],
      "metadata": {
        "id": "7XytrDmQQuIC"
      }
    },
    {
      "cell_type": "code",
      "source": [
        "class Node:\n",
        "  def __init__(self, val):\n",
        "    self.val = val\n",
        "    self.next = None\n",
        "\n",
        "def sum_list(head):\n",
        "  if head == None: return 0\n",
        "\n",
        "  current = head\n",
        "  sum = 0\n",
        "  while current is not None:\n",
        "    sum += current.val\n",
        "    current = current.next\n",
        "\n",
        "  return sum\n",
        "\n",
        "a = Node(2)\n",
        "b = Node(8)\n",
        "c = Node(3)\n",
        "d = Node(-1)\n",
        "e = Node(7)\n",
        "\n",
        "a.next = b\n",
        "b.next = c\n",
        "c.next = d\n",
        "d.next = e\n",
        "\n",
        "# 2 -> 8 -> 3 -> -1 -> 7\n",
        "\n",
        "print(sum_list(a)) # 19"
      ],
      "metadata": {
        "colab": {
          "base_uri": "https://localhost:8080/"
        },
        "id": "C3Q1szUxQv18",
        "outputId": "d035eef5-5852-4f24-f364-90a38a2451c0"
      },
      "execution_count": null,
      "outputs": [
        {
          "output_type": "stream",
          "name": "stdout",
          "text": [
            "19\n"
          ]
        }
      ]
    },
    {
      "cell_type": "markdown",
      "source": [
        "linked list find\n",
        "\n",
        "Write a function, linked_list_find, that takes in the head of a linked list and a target value. The function should return a boolean indicating whether or not the linked list contains the target."
      ],
      "metadata": {
        "id": "mw1RsJPIhGKO"
      }
    },
    {
      "cell_type": "code",
      "source": [
        "class Node:\n",
        "  def __init__(self, val):\n",
        "    self.val = val\n",
        "    self.next = None\n",
        "\n",
        "def linked_list_find(head, target):\n",
        "  current = head\n",
        "  while current is not None:\n",
        "    if current.val == target:\n",
        "      return True\n",
        "    current = current.next\n",
        "\n",
        "  return False\n",
        "\n",
        "a = Node(\"a\")\n",
        "b = Node(\"b\")\n",
        "c = Node(\"c\")\n",
        "d = Node(\"d\")\n",
        "\n",
        "a.next = b\n",
        "b.next = c\n",
        "c.next = d\n",
        "\n",
        "# a -> b -> c -> d\n",
        "\n",
        "print(linked_list_find(a, \"c\")) # True\n",
        "print(linked_list_find(a, \"q\")) # False)\n",
        "print(linked_list_find(a, \"d\")) # True"
      ],
      "metadata": {
        "colab": {
          "base_uri": "https://localhost:8080/"
        },
        "id": "YyryNGZYhJHc",
        "outputId": "af2b50f2-14bb-4ee1-ff69-e8af78bd5caf"
      },
      "execution_count": null,
      "outputs": [
        {
          "output_type": "stream",
          "name": "stdout",
          "text": [
            "True\n",
            "False\n",
            "True\n"
          ]
        }
      ]
    },
    {
      "cell_type": "markdown",
      "source": [
        "get node value\n",
        "\n",
        "Write a function, get_node_value, that takes in the head of a linked list and an index. The function should return the value of the linked list at the specified index.\n",
        "\n",
        "If there is no node at the given index, then return None."
      ],
      "metadata": {
        "id": "StsQ9MDohEOJ"
      }
    },
    {
      "cell_type": "code",
      "source": [
        "class Node:\n",
        "  def __init__(self, val):\n",
        "    self.val = val\n",
        "    self.next = None\n",
        "\n",
        "def get_node_value(head, index):\n",
        "  current = head\n",
        "\n",
        "  while index > 0:\n",
        "    if current.next is not None:\n",
        "      current = current.next\n",
        "    else:\n",
        "      return None\n",
        "    index -= 1\n",
        "\n",
        "  return current.val\n",
        "\n",
        "a = Node(\"a\")\n",
        "b = Node(\"b\")\n",
        "c = Node(\"c\")\n",
        "d = Node(\"d\")\n",
        "\n",
        "a.next = b\n",
        "b.next = c\n",
        "c.next = d\n",
        "\n",
        "# a -> b -> c -> d\n",
        "\n",
        "print(get_node_value(a, 2)) # 'c'\n",
        "print(get_node_value(a, 3)) # 'd'\n",
        "print(get_node_value(a, 7)) # None"
      ],
      "metadata": {
        "colab": {
          "base_uri": "https://localhost:8080/"
        },
        "id": "uoDXCqIzhGp5",
        "outputId": "da354b9a-985a-48ae-f377-69e3e40f8d9b"
      },
      "execution_count": null,
      "outputs": [
        {
          "output_type": "stream",
          "name": "stdout",
          "text": [
            "c\n",
            "d\n",
            "None\n"
          ]
        }
      ]
    },
    {
      "cell_type": "markdown",
      "source": [
        "reverse list\n",
        "\n",
        "Write a function, reverse_list, that takes in the head of a linked list as an argument. The function should reverse the order of the nodes in the linked list in-place and return the new head of the reversed linked list."
      ],
      "metadata": {
        "id": "lJrh8i6qco6z"
      }
    },
    {
      "cell_type": "code",
      "source": [
        "class Node:\n",
        "  def __init__(self, val):\n",
        "    self.val = val\n",
        "    self.next = None\n",
        "\n",
        "def reverse_list(head):\n",
        "  current = head\n",
        "  prev = None\n",
        "\n",
        "  while current is not None:\n",
        "    next = current.next\n",
        "    current.next = prev\n",
        "    prev = current\n",
        "    current = next\n",
        "\n",
        "  return prev"
      ],
      "metadata": {
        "id": "IULBDQGgc36x"
      },
      "execution_count": null,
      "outputs": []
    },
    {
      "cell_type": "markdown",
      "source": [
        "zipper lists\n",
        "\n",
        "Write a function, zipper_lists, that takes in the head of two linked lists as arguments. The function should zipper the two lists together into single linked list by alternating nodes. If one of the linked lists is longer than the other, the resulting list should terminate with the remaining nodes. The function should return the head of the zippered linked list.\n",
        "\n",
        "Do this in-place, by mutating the original Nodes.\n",
        "\n",
        "You may assume that both input lists are non-empty."
      ],
      "metadata": {
        "id": "1pEgiBRVy3xO"
      }
    },
    {
      "cell_type": "code",
      "source": [
        "class Node:\n",
        "  def __init__(self, val):\n",
        "    self.val = val\n",
        "    self.next = None\n",
        "\n",
        "def zipper_lists(head_1, head_2):\n",
        "    tail = head_1\n",
        "    current_1 = head_1.next\n",
        "    current_2 = head_2\n",
        "    count = 0\n",
        "\n",
        "    while current_1 is not None and current_2 is not None:\n",
        "      if count % 2 == 0:\n",
        "        tail.next = current_2\n",
        "        current_2 = current_2.next\n",
        "      else:\n",
        "        tail.next = current_1\n",
        "        current_1 = current_1.next\n",
        "      tail = tail.next\n",
        "      count += 1\n",
        "\n",
        "    if current_1 is not None:\n",
        "      tail.next = current_1\n",
        "    if current_2 is not None:\n",
        "      tail.next = current_2\n",
        "\n",
        "    return head_1"
      ],
      "metadata": {
        "id": "MDgPd_7py6M_"
      },
      "execution_count": null,
      "outputs": []
    },
    {
      "cell_type": "markdown",
      "source": [
        "merge lists\n",
        "\n",
        "Write a function, merge_lists, that takes in the head of two sorted linked lists as arguments. The function should merge the two lists together into single sorted linked list. The function should return the head of the merged linked list.\n",
        "\n",
        "Do this in-place, by mutating the original Nodes.\n",
        "\n",
        "You may assume that both input lists are non-empty and contain increasing sorted numbers."
      ],
      "metadata": {
        "id": "rrjTTUupBACc"
      }
    },
    {
      "cell_type": "code",
      "source": [
        "class Node:\n",
        "  def __init__(self, val):\n",
        "    self.val = val\n",
        "    self.next = None\n",
        "\n",
        "def merge_lists(head_1, head_2):\n",
        "  dummy_head = Node(None)\n",
        "  tail = dummy_head\n",
        "  current_1 = head_1\n",
        "  current_2 = head_2\n",
        "\n",
        "  while current_1 is not None and current_2 is not None:\n",
        "    if current_1.val < current_2.val:\n",
        "      tail.next = current_1\n",
        "      current_1 = current_1.next\n",
        "    else:\n",
        "      tail.next = current_2\n",
        "      current_2 = current_2.next\n",
        "    tail = tail.next\n",
        "\n",
        "  if current_1 is not None:\n",
        "    tail.next = current_1\n",
        "\n",
        "  if current_2 is not None:\n",
        "    tail.next = current_2\n",
        "\n",
        "  return dummy_head.next"
      ],
      "metadata": {
        "id": "Yz_bIBg0BDZi"
      },
      "execution_count": null,
      "outputs": []
    },
    {
      "cell_type": "markdown",
      "source": [
        "is univalue list\n",
        "\n",
        "Write a function, is_univalue_list, that takes in the head of a linked list as an argument. The function should return a boolean indicating whether or not the linked list contains exactly one unique value.\n",
        "\n",
        "You may assume that the input list is non-empty."
      ],
      "metadata": {
        "id": "a3nxuLVepQvg"
      }
    },
    {
      "cell_type": "code",
      "source": [
        "class Node:\n",
        "  def __init__(self, val):\n",
        "    self.val = val\n",
        "    self.next = None\n",
        "\n",
        "def is_univalue_list(head):\n",
        "  current = head\n",
        "\n",
        "  while current is not None:\n",
        "    if current.val != head.val:\n",
        "      return False\n",
        "    current = current.next\n",
        "\n",
        "  return True\n",
        "\n",
        "a = Node(7)\n",
        "b = Node(7)\n",
        "c = Node(7)\n",
        "\n",
        "a.next = b\n",
        "b.next = c\n",
        "\n",
        "# 7 -> 7 -> 7\n",
        "\n",
        "print(is_univalue_list(a)) # True"
      ],
      "metadata": {
        "colab": {
          "base_uri": "https://localhost:8080/"
        },
        "id": "B_5a4v-LpSTl",
        "outputId": "264747fe-f266-4164-9be7-802eebe4dfd7"
      },
      "execution_count": null,
      "outputs": [
        {
          "output_type": "stream",
          "name": "stdout",
          "text": [
            "True\n"
          ]
        }
      ]
    },
    {
      "cell_type": "markdown",
      "source": [
        "longest streak\n",
        "\n",
        "Write a function, longest_streak, that takes in the head of a linked list as an argument. The function should return the length of the longest consecutive streak of the same value within the list"
      ],
      "metadata": {
        "id": "Tb6cx-2ynRje"
      }
    },
    {
      "cell_type": "code",
      "source": [
        "# class Node:\n",
        "#   def __init__(self, val):\n",
        "#     self.val = val\n",
        "#     self.next = None\n",
        "\n",
        "def longest_streak(head):\n",
        "  if head == None: return 0\n",
        "\n",
        "  pointer_1 = head\n",
        "  pointer_2 = head.next\n",
        "  highest_count = 1\n",
        "  count = 1\n",
        "\n",
        "  while pointer_1 is not None and pointer_2 is not None:\n",
        "    if pointer_1.val == pointer_2.val:\n",
        "      count += 1\n",
        "      pointer_2 = pointer_2.next\n",
        "    else:\n",
        "      count = 1\n",
        "      pointer_1 = pointer_2\n",
        "      pointer_2 = pointer_2.next\n",
        "    if count > highest_count:\n",
        "        highest_count = count\n",
        "\n",
        "  return highest_count"
      ],
      "metadata": {
        "id": "JwsXM75znWxL"
      },
      "execution_count": null,
      "outputs": []
    },
    {
      "cell_type": "markdown",
      "source": [
        "remove node\n",
        "\n",
        "Write a function, remove_node, that takes in the head of a linked list and a target value as arguments. The function should delete the node containing the target value from the linked list and return the head of the resulting linked list. If the target appears multiple times in the linked list, only remove the first instance of the target in the list.\n",
        "\n",
        "Do this in-place.\n",
        "\n",
        "You may assume that the input list is non-empty.\n",
        "\n",
        "You may assume that the input list contains the target."
      ],
      "metadata": {
        "id": "wjI9SxIcKPek"
      }
    },
    {
      "cell_type": "code",
      "source": [
        "class Node:\n",
        "  def __init__(self, val):\n",
        "    self.val = val\n",
        "    self.next = None\n",
        "\n",
        "def remove_node(head, target_val):\n",
        "  if head.val == target_val: return head.next\n",
        "  prev = None\n",
        "  current = head\n",
        "\n",
        "  while current.val != target_val:\n",
        "      prev = current\n",
        "      current = current.next\n",
        "  prev.next = current.next\n",
        "\n",
        "  return head"
      ],
      "metadata": {
        "id": "3QS7Js6zKQCq"
      },
      "execution_count": null,
      "outputs": []
    },
    {
      "cell_type": "markdown",
      "source": [
        "insert node\n",
        "\n",
        "Write a function, insert_node, that takes in the head of a linked list, a value, and an index. The function should insert a new node with the value into the list at the specified index. Consider the head of the linked list as index 0. The function should return the head of the resulting linked list.\n",
        "\n",
        "Do this in-place.\n",
        "\n",
        "You may assume that the input list is non-empty and the index is not greater than the length of the input list."
      ],
      "metadata": {
        "id": "p1oX9dvuDEHa"
      }
    },
    {
      "cell_type": "code",
      "source": [
        "class Node:\n",
        "  def __init__(self, val):\n",
        "    self.val = val\n",
        "    self.next = None\n",
        "\n",
        "def insert_node(head, value, index):\n",
        "  insert = Node(value)\n",
        "  if index == 0:\n",
        "    insert.next = head\n",
        "    return insert\n",
        "\n",
        "  current = head\n",
        "  prev = None\n",
        "  count = 0\n",
        "\n",
        "  while count != index:\n",
        "    count += 1\n",
        "    prev = current\n",
        "    current = current.next\n",
        "\n",
        "  prev.next = insert\n",
        "  insert.next = current\n",
        "\n",
        "  return head"
      ],
      "metadata": {
        "id": "86rA4PaMDKW4"
      },
      "execution_count": null,
      "outputs": []
    },
    {
      "cell_type": "markdown",
      "source": [
        "create linked list\n",
        "\n",
        "Write a function, create_linked_list, that takes in a list of values as an argument. The function should create a linked list containing each item of the list as the values of the nodes. The function should return the head of the linked list."
      ],
      "metadata": {
        "id": "KcHJBzYmkQRB"
      }
    },
    {
      "cell_type": "code",
      "source": [
        "class Node:\n",
        "  def __init__(self, val):\n",
        "    self.val = val\n",
        "    self.next = None\n",
        "\n",
        "def create_linked_list(values):\n",
        "  dummy_head = Node(None)\n",
        "  current = dummy_head\n",
        "\n",
        "  for value in values:\n",
        "    new_node = Node(value)\n",
        "    current.next = new_node\n",
        "    current = new_node\n",
        "\n",
        "  return dummy_head.next"
      ],
      "metadata": {
        "id": "CSn5wPeBkVEl"
      },
      "execution_count": null,
      "outputs": []
    },
    {
      "cell_type": "markdown",
      "source": [
        "# Binary Trees I"
      ],
      "metadata": {
        "id": "fn_rGs9OiZUC"
      }
    },
    {
      "cell_type": "markdown",
      "source": [
        "depth first values\n",
        "\n",
        "Write a function, depth_first_values, that takes in the root of a binary tree. The function should return a list containing all values of the tree in depth-first order."
      ],
      "metadata": {
        "id": "bm-RyaVeXMbr"
      }
    },
    {
      "cell_type": "markdown",
      "source": [
        "iterative solution:"
      ],
      "metadata": {
        "id": "Bbnk2YDdorMa"
      }
    },
    {
      "cell_type": "code",
      "source": [
        "def depth_first_values(root):\n",
        "  if root == None: return []\n",
        "  values = []\n",
        "  stack = [root]\n",
        "\n",
        "  while len(stack) > 0:\n",
        "    current = stack.pop(-1)\n",
        "    values.append(current.val)\n",
        "    if current.right is not None: stack.append(current.right)\n",
        "    if current.left is not None: stack.append(current.left)\n",
        "\n",
        "  return values"
      ],
      "metadata": {
        "id": "xUBhBzs2XIIR"
      },
      "execution_count": null,
      "outputs": []
    },
    {
      "cell_type": "markdown",
      "source": [
        "recursive solution:"
      ],
      "metadata": {
        "id": "spQ_KL6EowN3"
      }
    },
    {
      "cell_type": "code",
      "source": [
        "def depth_first_values(root):\n",
        "  if root is None: return []\n",
        "  right_values = depth_first_values(root.left)\n",
        "  left_values = depth_first_values(root.right)\n",
        "\n",
        "  return [root.val, *right_values, *left_values]"
      ],
      "metadata": {
        "id": "obENz5nRozWl"
      },
      "execution_count": null,
      "outputs": []
    },
    {
      "cell_type": "markdown",
      "source": [
        "breadth first values\n",
        "\n",
        "Write a function, breadth_first_values, that takes in the root of a binary tree. The function should return a list containing all values of the tree in breadth-first order."
      ],
      "metadata": {
        "id": "t5QFEq0env6V"
      }
    },
    {
      "cell_type": "code",
      "source": [
        "class Node:\n",
        "  def __init__(self, val):\n",
        "    self.val = val\n",
        "    self.left = None\n",
        "    self.right = None\n",
        "\n",
        "def breadth_first_values(root):\n",
        "  if root == None: return []\n",
        "  queue = [root]\n",
        "  values = []\n",
        "\n",
        "  while len(queue) > 0:\n",
        "    current = queue.pop(0)\n",
        "    values.append(current.val)\n",
        "\n",
        "    if current.left is not None: queue.append(current.left)\n",
        "    if current.right is not None: queue.append(current.right)\n",
        "\n",
        "  return values\n",
        "\n",
        "a = Node('a')\n",
        "b = Node('b')\n",
        "c = Node('c')\n",
        "d = Node('d')\n",
        "e = Node('e')\n",
        "f = Node('f')\n",
        "\n",
        "a.left = b\n",
        "a.right = c\n",
        "b.left = d\n",
        "b.right = e\n",
        "c.right = f\n",
        "\n",
        "#      a\n",
        "#    /   \\\n",
        "#   b     c\n",
        "#  / \\     \\\n",
        "# d   e     f\n",
        "\n",
        "breadth_first_values(a)\n",
        "#    -> ['a', 'b', 'c', 'd', 'e', 'f']\n"
      ],
      "metadata": {
        "colab": {
          "base_uri": "https://localhost:8080/"
        },
        "id": "3JewOCEvn-e-",
        "outputId": "b881b2c8-62e1-4273-84e6-9efe7d664bb6"
      },
      "execution_count": null,
      "outputs": [
        {
          "output_type": "execute_result",
          "data": {
            "text/plain": [
              "['a', 'b', 'c', 'd', 'e', 'f']"
            ]
          },
          "metadata": {},
          "execution_count": 1
        }
      ]
    },
    {
      "cell_type": "markdown",
      "source": [
        "tree sum\n",
        "\n",
        "Write a function, tree_sum, that takes in the root of a binary tree that contains number values. The function should return the total sum of all values in the tree."
      ],
      "metadata": {
        "id": "c6M9FT6jV9NO"
      }
    },
    {
      "cell_type": "markdown",
      "source": [
        "iterative solution:"
      ],
      "metadata": {
        "id": "tOSLUF4ZWLoR"
      }
    },
    {
      "cell_type": "code",
      "source": [
        "class Node:\n",
        "  def __init__(self, val):\n",
        "    self.val = val\n",
        "    self.left = None\n",
        "    self.right = None\n",
        "\n",
        "from collections import deque\n",
        "\n",
        "def tree_sum(root):\n",
        "  if root == None: return 0\n",
        "  sum = 0\n",
        "  queue = deque([root])\n",
        "\n",
        "  while len(queue) > 0:\n",
        "    current = queue.popleft()\n",
        "    sum = sum + current.val\n",
        "\n",
        "    if current.left is not None: queue.append(current.left)\n",
        "    if current.right is not None: queue.append(current.right)\n",
        "\n",
        "  return sum\n",
        "\n",
        "a = Node(3)\n",
        "b = Node(11)\n",
        "c = Node(4)\n",
        "d = Node(4)\n",
        "e = Node(-2)\n",
        "f = Node(1)\n",
        "\n",
        "a.left = b\n",
        "a.right = c\n",
        "b.left = d\n",
        "b.right = e\n",
        "c.right = f\n",
        "\n",
        "#       3\n",
        "#    /    \\\n",
        "#   11     4\n",
        "#  / \\      \\\n",
        "# 4   -2     1\n",
        "\n",
        "tree_sum(a) # -> 21"
      ],
      "metadata": {
        "colab": {
          "base_uri": "https://localhost:8080/"
        },
        "id": "y2LTAUwWWbme",
        "outputId": "1d1de714-fc77-48bd-ceef-27a62e2e381a"
      },
      "execution_count": null,
      "outputs": [
        {
          "output_type": "execute_result",
          "data": {
            "text/plain": [
              "21"
            ]
          },
          "metadata": {},
          "execution_count": 2
        }
      ]
    },
    {
      "cell_type": "markdown",
      "source": [
        "recursive soltuion:"
      ],
      "metadata": {
        "id": "ZYyAld_bY_g6"
      }
    },
    {
      "cell_type": "code",
      "source": [
        "class Node:\n",
        "  def __init__(self, val):\n",
        "    self.val = val\n",
        "    self.left = None\n",
        "    self.right = None\n",
        "\n",
        "def tree_sum(root):\n",
        "  if root is None: return 0\n",
        "\n",
        "  return root.val + tree_sum(root.left) + tree_sum(root.right)\n",
        "\n",
        "a = Node(1)\n",
        "b = Node(6)\n",
        "c = Node(0)\n",
        "d = Node(3)\n",
        "e = Node(-6)\n",
        "f = Node(2)\n",
        "g = Node(2)\n",
        "h = Node(2)\n",
        "\n",
        "a.left = b\n",
        "a.right = c\n",
        "b.left = d\n",
        "b.right = e\n",
        "c.right = f\n",
        "e.left = g\n",
        "f.right = h\n",
        "\n",
        "#      1\n",
        "#    /   \\\n",
        "#   6     0\n",
        "#  / \\     \\\n",
        "# 3   -6    2\n",
        "#    /       \\\n",
        "#   2         2\n",
        "\n",
        "tree_sum(a) # -> 10"
      ],
      "metadata": {
        "colab": {
          "base_uri": "https://localhost:8080/"
        },
        "id": "r8NA2FofZB7m",
        "outputId": "31b93575-fa05-47b5-9e7b-56447c79f267"
      },
      "execution_count": null,
      "outputs": [
        {
          "output_type": "execute_result",
          "data": {
            "text/plain": [
              "10"
            ]
          },
          "metadata": {},
          "execution_count": 3
        }
      ]
    },
    {
      "cell_type": "markdown",
      "source": [
        "tree includes\n",
        "\n",
        "Write a function, tree_includes, that takes in the root of a binary tree and a target value. The function should return a boolean indicating whether or not the value is contained in the tree."
      ],
      "metadata": {
        "id": "gOK3EW6K-m98"
      }
    },
    {
      "cell_type": "markdown",
      "source": [
        "iterative solution:"
      ],
      "metadata": {
        "id": "asGIZc58-rYy"
      }
    },
    {
      "cell_type": "code",
      "source": [
        "class Node:\n",
        "  def __init__(self, val):\n",
        "    self.val = val\n",
        "    self.left = None\n",
        "    self.right = None\n",
        "from collections import deque\n",
        "\n",
        "def tree_includes(root, target):\n",
        "  if root == None: return False\n",
        "\n",
        "  queue = deque([root])\n",
        "\n",
        "  while len(queue) > 0:\n",
        "    current = queue.popleft()\n",
        "    if current.val == target:\n",
        "      return True\n",
        "\n",
        "    if current.left is not None: queue.append(current.left)\n",
        "    if current.right is not None: queue.append(current.right)\n",
        "\n",
        "  return False\n",
        "\n",
        "a = Node(\"a\")\n",
        "b = Node(\"b\")\n",
        "c = Node(\"c\")\n",
        "d = Node(\"d\")\n",
        "e = Node(\"e\")\n",
        "f = Node(\"f\")\n",
        "\n",
        "a.left = b\n",
        "a.right = c\n",
        "b.left = d\n",
        "b.right = e\n",
        "c.right = f\n",
        "\n",
        "#      a\n",
        "#    /   \\\n",
        "#   b     c\n",
        "#  / \\     \\\n",
        "# d   e     f\n",
        "\n",
        "tree_includes(a, \"e\") # -> True"
      ],
      "metadata": {
        "colab": {
          "base_uri": "https://localhost:8080/"
        },
        "id": "Lvcf-Sny-qfn",
        "outputId": "e4e51a7d-6b34-42f0-a14d-49714e2a65cd"
      },
      "execution_count": null,
      "outputs": [
        {
          "output_type": "execute_result",
          "data": {
            "text/plain": [
              "True"
            ]
          },
          "metadata": {},
          "execution_count": 2
        }
      ]
    },
    {
      "cell_type": "markdown",
      "source": [
        "recursive solution:"
      ],
      "metadata": {
        "id": "NA-AIkWz9PNK"
      }
    },
    {
      "cell_type": "code",
      "source": [
        "class Node:\n",
        "  def __init__(self, val):\n",
        "    self.val = val\n",
        "    self.left = None\n",
        "    self.right = None\n",
        "\n",
        "def tree_includes(root, target):\n",
        "  if root is None: return False\n",
        "  if root.val == target: return True\n",
        "\n",
        "  return tree_includes(root.left, target) or tree_includes(root.right, target)\n",
        "\n",
        "\n",
        "a = Node(\"a\")\n",
        "b = Node(\"b\")\n",
        "c = Node(\"c\")\n",
        "d = Node(\"d\")\n",
        "e = Node(\"e\")\n",
        "f = Node(\"f\")\n",
        "g = Node(\"g\")\n",
        "h = Node(\"h\")\n",
        "\n",
        "a.left = b\n",
        "a.right = c\n",
        "b.left = d\n",
        "b.right = e\n",
        "c.right = f\n",
        "e.left = g\n",
        "f.right = h\n",
        "\n",
        "#      a\n",
        "#    /   \\\n",
        "#   b     c\n",
        "#  / \\     \\\n",
        "# d   e     f\n",
        "#    /       \\\n",
        "#   g         h\n",
        "\n",
        "tree_includes(a, \"f\") # -> True\n"
      ],
      "metadata": {
        "colab": {
          "base_uri": "https://localhost:8080/"
        },
        "id": "d8cMqnv59RYN",
        "outputId": "f049901e-7cf5-497c-db15-c2da309357ac"
      },
      "execution_count": null,
      "outputs": [
        {
          "output_type": "execute_result",
          "data": {
            "text/plain": [
              "True"
            ]
          },
          "metadata": {},
          "execution_count": 4
        }
      ]
    },
    {
      "cell_type": "markdown",
      "source": [
        "tree min value\n",
        "\n",
        "Write a function, tree_min_value, that takes in the root of a binary tree that contains number values. The function should return the minimum value within the tree.\n",
        "\n",
        "You may assume that the input tree is non-empty."
      ],
      "metadata": {
        "id": "KzxtHjCTVuEp"
      }
    },
    {
      "cell_type": "markdown",
      "source": [
        "iterative solution:"
      ],
      "metadata": {
        "id": "loa4OjDqV0R8"
      }
    },
    {
      "cell_type": "code",
      "source": [
        "class Node:\n",
        "  def __init__(self, val):\n",
        "    self.val = val\n",
        "    self.left = None\n",
        "    self.right = None\n",
        "\n",
        "from collections import deque\n",
        "\n",
        "def tree_min_value(root):\n",
        "  queue = deque([root])\n",
        "  min = root.val\n",
        "\n",
        "  while len(queue) > 0:\n",
        "    current = queue.popleft()\n",
        "    if current.val < min: min = current.val\n",
        "\n",
        "    if current.left is not None: queue.append(current.left)\n",
        "    if current.right is not None: queue.append(current.right)\n",
        "\n",
        "\n",
        "  return min"
      ],
      "metadata": {
        "id": "LJNzMo5EVw7g"
      },
      "execution_count": null,
      "outputs": []
    },
    {
      "cell_type": "markdown",
      "source": [
        "recursive solution:"
      ],
      "metadata": {
        "id": "bxAFz6uWgIyW"
      }
    },
    {
      "cell_type": "code",
      "source": [
        "def tree_min_value(root):\n",
        "  if root is None:\n",
        "    return float(\"inf\")\n",
        "  min_left_value = tree_min_value(root.left)\n",
        "  min_right_value = tree_min_value(root.right)\n",
        "\n",
        "  return min(root.val, min_left_value, min_right_value)"
      ],
      "metadata": {
        "id": "6Q0AnZ2zgLHH"
      },
      "execution_count": null,
      "outputs": []
    },
    {
      "cell_type": "markdown",
      "source": [
        "max root to leaf path sum\n",
        "\n",
        "Write a function, max_path_sum, that takes in the root of a binary tree that contains number values. The function should return the maximum sum of any root to leaf path within the tree.\n",
        "\n",
        "You may assume that the input tree is non-empty."
      ],
      "metadata": {
        "id": "uX2gnhuMsOG1"
      }
    },
    {
      "cell_type": "code",
      "source": [
        "class Node:\n",
        "  def __init__(self, val):\n",
        "    self.val = val\n",
        "    self.left = None\n",
        "    self.right = None\n",
        "\n",
        "def max_path_sum(root):\n",
        "  if root is None: return float('-inf')\n",
        "  if root.left is None and root.right is None: return root.val\n",
        "\n",
        "  max_path = max(max_path_sum(root.left), max_path_sum(root.right))\n",
        "  return root.val + max_path\n",
        "\n",
        "a = Node(3)\n",
        "b = Node(11)\n",
        "c = Node(4)\n",
        "d = Node(4)\n",
        "e = Node(-2)\n",
        "f = Node(1)\n",
        "\n",
        "a.left = b\n",
        "a.right = c\n",
        "b.left = d\n",
        "b.right = e\n",
        "c.right = f\n",
        "\n",
        "#       3\n",
        "#    /    \\\n",
        "#   11     4\n",
        "#  / \\      \\\n",
        "# 4   -2     1\n",
        "\n",
        "max_path_sum(a) # -> 18"
      ],
      "metadata": {
        "colab": {
          "base_uri": "https://localhost:8080/"
        },
        "id": "WkRVwyo9sQNJ",
        "outputId": "4873eb74-2389-49cb-ac79-d8fc99924f4e"
      },
      "execution_count": null,
      "outputs": [
        {
          "output_type": "execute_result",
          "data": {
            "text/plain": [
              "18"
            ]
          },
          "metadata": {},
          "execution_count": 1
        }
      ]
    },
    {
      "cell_type": "markdown",
      "source": [
        "iterative solution"
      ],
      "metadata": {
        "id": "Mr3dccEBrtcr"
      }
    },
    {
      "cell_type": "code",
      "source": [
        "class Node:\n",
        "  def __init__(self, val):\n",
        "    self.val = val\n",
        "    self.left = None\n",
        "    self.right = None\n",
        "\n",
        "def max_path_sum(root):\n",
        "  max_sum = float('-inf')\n",
        "  stack = [(root, root.val)]\n",
        "\n",
        "  while stack:\n",
        "    current, current_sum = stack.pop()\n",
        "\n",
        "    is_leaf = current.left is None and current.right is None\n",
        "\n",
        "    if is_leaf:\n",
        "      max_sum = max(max_sum, current_sum)\n",
        "      continue\n",
        "\n",
        "    if current.left:\n",
        "      stack.append((current.left, current_sum + current.left.val))\n",
        "    if current.right:\n",
        "      stack.append((current.right, current_sum + current.right.val))\n",
        "\n",
        "  return max_sum\n",
        "\n",
        "a = Node(-1)\n",
        "b = Node(-6)\n",
        "c = Node(-5)\n",
        "d = Node(-3)\n",
        "e = Node(0)\n",
        "f = Node(-13)\n",
        "g = Node(-1)\n",
        "h = Node(-2)\n",
        "\n",
        "a.left = b\n",
        "a.right = c\n",
        "b.left = d\n",
        "b.right = e\n",
        "c.right = f\n",
        "e.left = g\n",
        "f.right = h\n",
        "\n",
        "#        -1\n",
        "#      /   \\\n",
        "#    -6    -5\n",
        "#   /  \\     \\\n",
        "# -3   0    -13\n",
        "#     /       \\\n",
        "#    -1       -2\n",
        "\n",
        "max_path_sum(a) # -> -8\n"
      ],
      "metadata": {
        "colab": {
          "base_uri": "https://localhost:8080/"
        },
        "id": "SgYK5p4ErvoM",
        "outputId": "47b70d68-55fb-42f8-8f3a-82843810e690"
      },
      "execution_count": null,
      "outputs": [
        {
          "output_type": "execute_result",
          "data": {
            "text/plain": [
              "-8"
            ]
          },
          "metadata": {},
          "execution_count": 2
        }
      ]
    },
    {
      "cell_type": "markdown",
      "source": [
        "tree path finder\n",
        "\n",
        "Write a function, path_finder, that takes in the root of a binary tree and a target value. The function should return an array representing a path to the target value. If the target value is not found in the tree, then return None.\n",
        "\n",
        "You may assume that the tree contains unique values."
      ],
      "metadata": {
        "id": "hLoZ9v2eh1sR"
      }
    },
    {
      "cell_type": "code",
      "source": [
        "class Node:\n",
        "  def __init__(self, val):\n",
        "    self.val = val\n",
        "    self.left = None\n",
        "    self.right = None\n",
        "\n",
        "def path_finder(root, target):\n",
        "  result = _path_finder(root, target)\n",
        "  if result is None:\n",
        "    return None\n",
        "  else:\n",
        "    return result[::-1]\n",
        "\n",
        "def _path_finder(root, target):\n",
        "  if root is None: return None\n",
        "  if root.val == target: return [root.val]\n",
        "\n",
        "  left_path = _path_finder(root.left, target)\n",
        "  if left_path is not None:\n",
        "    left_path.append(root.val)\n",
        "    return left_path\n",
        "  right_path = _path_finder(root.right, target)\n",
        "  if right_path is not None:\n",
        "    right_path.append(root.val)\n",
        "    return right_path\n",
        "\n",
        "  return None\n",
        "\n",
        "a = Node(\"a\")\n",
        "b = Node(\"b\")\n",
        "c = Node(\"c\")\n",
        "d = Node(\"d\")\n",
        "e = Node(\"e\")\n",
        "f = Node(\"f\")\n",
        "\n",
        "a.left = b\n",
        "a.right = c\n",
        "b.left = d\n",
        "b.right = e\n",
        "c.right = f\n",
        "\n",
        "#      a\n",
        "#    /   \\\n",
        "#   b     c\n",
        "#  / \\     \\\n",
        "# d   e     f\n",
        "\n",
        "path_finder(a, 'e') # -> [ 'a', 'b', 'e' ]"
      ],
      "metadata": {
        "colab": {
          "base_uri": "https://localhost:8080/"
        },
        "id": "SN6bHsQgh3ZG",
        "outputId": "e41f6bdd-56e6-495c-f6a9-deb3dd837dde"
      },
      "execution_count": null,
      "outputs": [
        {
          "output_type": "execute_result",
          "data": {
            "text/plain": [
              "['a', 'b', 'e']"
            ]
          },
          "metadata": {},
          "execution_count": 2
        }
      ]
    },
    {
      "cell_type": "markdown",
      "source": [
        "tree value count\n",
        "\n",
        "Write a function, tree_value_count, that takes in the root of a binary tree and a target value. The function should return the number of times that the target occurs in the tree."
      ],
      "metadata": {
        "id": "F_RWeexv0o1z"
      }
    },
    {
      "cell_type": "markdown",
      "source": [
        "recursive solution:"
      ],
      "metadata": {
        "id": "eZF8pMFf1-9p"
      }
    },
    {
      "cell_type": "code",
      "source": [
        "class Node:\n",
        "  def __init__(self, val):\n",
        "    self.val = val\n",
        "    self.left = None\n",
        "    self.right = None\n",
        "\n",
        "def tree_value_count(root, target):\n",
        "  if root is None: return 0\n",
        "  count = 1 if root.val == target else 0\n",
        "\n",
        "  return count + tree_value_count(root.left, target) + tree_value_count(root.right, target)\n",
        "\n",
        "a = Node(12)\n",
        "b = Node(6)\n",
        "c = Node(6)\n",
        "d = Node(4)\n",
        "e = Node(6)\n",
        "f = Node(12)\n",
        "\n",
        "a.left = b\n",
        "a.right = c\n",
        "b.left = d\n",
        "b.right = e\n",
        "c.right = f\n",
        "\n",
        "#      12\n",
        "#    /   \\\n",
        "#   6     6\n",
        "#  / \\     \\\n",
        "# 4   6     12\n",
        "\n",
        "tree_value_count(a,  6) # -> 3"
      ],
      "metadata": {
        "colab": {
          "base_uri": "https://localhost:8080/"
        },
        "id": "_BMH0BRi0rt-",
        "outputId": "f2ce20ef-99c8-4b1b-eb73-95462639d5fd"
      },
      "execution_count": null,
      "outputs": [
        {
          "output_type": "execute_result",
          "data": {
            "text/plain": [
              "3"
            ]
          },
          "metadata": {},
          "execution_count": 2
        }
      ]
    },
    {
      "cell_type": "markdown",
      "source": [
        "iterative solution (DFS):"
      ],
      "metadata": {
        "id": "5vLlW4OPA1Uh"
      }
    },
    {
      "cell_type": "code",
      "source": [
        "class Node:\n",
        "  def __init__(self, val):\n",
        "    self.val = val\n",
        "    self.left = None\n",
        "    self.right = None\n",
        "\n",
        "def tree_value_count(root, target):\n",
        "  if root is None: return 0\n",
        "  stack = [root]\n",
        "  count = 0\n",
        "\n",
        "  while stack:\n",
        "    current = stack.pop()\n",
        "    if current.val == target:\n",
        "      count += 1\n",
        "\n",
        "    if current.left is not None:\n",
        "      stack.append(current.left)\n",
        "    if current.right is not None:\n",
        "      stack.append(current.right)\n",
        "\n",
        "  return count\n",
        "\n",
        "a = Node(12)\n",
        "b = Node(6)\n",
        "c = Node(6)\n",
        "d = Node(4)\n",
        "e = Node(6)\n",
        "f = Node(12)\n",
        "\n",
        "a.left = b\n",
        "a.right = c\n",
        "b.left = d\n",
        "b.right = e\n",
        "c.right = f\n",
        "\n",
        "#      12\n",
        "#    /   \\\n",
        "#   6     6\n",
        "#  / \\     \\\n",
        "# 4  6     12\n",
        "\n",
        "tree_value_count(a,  12) # -> 2"
      ],
      "metadata": {
        "colab": {
          "base_uri": "https://localhost:8080/"
        },
        "id": "gKZ5RlQkA5aE",
        "outputId": "e91396ba-8a7d-472d-f905-d521ed0baa4e"
      },
      "execution_count": null,
      "outputs": [
        {
          "output_type": "execute_result",
          "data": {
            "text/plain": [
              "2"
            ]
          },
          "metadata": {},
          "execution_count": 1
        }
      ]
    },
    {
      "cell_type": "markdown",
      "source": [
        "how high\n",
        "\n",
        "Write a function, how_high, that takes in the root of a binary tree. The function should return a number representing the height of the tree.\n",
        "\n",
        "The height of a binary tree is defined as the maximal number of edges from the root node to any leaf node.\n",
        "\n",
        "If the tree is empty, return -1."
      ],
      "metadata": {
        "id": "PZ4V-3AF9jZ0"
      }
    },
    {
      "cell_type": "code",
      "source": [
        "class Node:\n",
        "  def __init__(self, val):\n",
        "    self.val = val\n",
        "    self.left = None\n",
        "    self.right = None\n",
        "\n",
        "def how_high(node):\n",
        "  if node is None: return -1\n",
        "\n",
        "  return 1 + max(how_high(node.left), how_high(node.right))\n",
        "\n",
        "a = Node('a')\n",
        "b = Node('b')\n",
        "c = Node('c')\n",
        "d = Node('d')\n",
        "e = Node('e')\n",
        "f = Node('f')\n",
        "\n",
        "a.left = b\n",
        "a.right = c\n",
        "b.left = d\n",
        "b.right = e\n",
        "c.right = f\n",
        "\n",
        "#      a\n",
        "#    /   \\\n",
        "#   b     c\n",
        "#  / \\     \\\n",
        "# d   e     f\n",
        "\n",
        "how_high(a) # -> 2"
      ],
      "metadata": {
        "colab": {
          "base_uri": "https://localhost:8080/"
        },
        "id": "CQ7XJEu-9mRp",
        "outputId": "07ed99d8-2534-4334-f0c6-5c9937ff0b93"
      },
      "execution_count": null,
      "outputs": [
        {
          "output_type": "execute_result",
          "data": {
            "text/plain": [
              "2"
            ]
          },
          "metadata": {},
          "execution_count": 1
        }
      ]
    },
    {
      "cell_type": "markdown",
      "source": [
        "bottom right value\n",
        "\n",
        "Write a function, bottom_right_value, that takes in the root of a binary tree. The function should return the right-most value in the bottom-most level of the tree.\n",
        "\n",
        "You may assume that the input tree is non-empty."
      ],
      "metadata": {
        "id": "mvkUXD9epXwj"
      }
    },
    {
      "cell_type": "code",
      "source": [
        "class Node:\n",
        "  def __init__(self, val):\n",
        "    self.val = val\n",
        "    self.left = None\n",
        "    self.right = None\n",
        "\n",
        "from collections import deque\n",
        "\n",
        "def bottom_right_value(root):\n",
        "  queue = deque([root])\n",
        "\n",
        "  while queue:\n",
        "    current = queue.popleft()\n",
        "    if current.left is not None:\n",
        "      queue.append(current.left)\n",
        "    if current.right is not None:\n",
        "      queue.append(current.right)\n",
        "\n",
        "  return current.val\n",
        "\n",
        "a = Node(3)\n",
        "b = Node(11)\n",
        "c = Node(10)\n",
        "d = Node(4)\n",
        "e = Node(-2)\n",
        "f = Node(1)\n",
        "\n",
        "a.left = b\n",
        "a.right = c\n",
        "b.left = d\n",
        "b.right = e\n",
        "c.right = f\n",
        "\n",
        "#       3\n",
        "#    /    \\\n",
        "#   11     10\n",
        "#  / \\      \\\n",
        "# 4   -2     1\n",
        "\n",
        "bottom_right_value(a) # -> 1"
      ],
      "metadata": {
        "colab": {
          "base_uri": "https://localhost:8080/"
        },
        "id": "TAVleVh1paCn",
        "outputId": "016658d7-272e-4423-edbd-ab7d9b95547b"
      },
      "execution_count": null,
      "outputs": [
        {
          "output_type": "execute_result",
          "data": {
            "text/plain": [
              "1"
            ]
          },
          "metadata": {},
          "execution_count": 1
        }
      ]
    },
    {
      "cell_type": "markdown",
      "source": [
        "all tree paths\n",
        "\n",
        "Write a function, all_tree_paths, that takes in the root of a binary tree. The function should return a 2-Dimensional list where each subarray represents a root-to-leaf path in the tree.\n",
        "\n",
        "The order within an individual path must start at the root and end at the leaf, but the relative order among paths in the outer list does not matter.\n",
        "\n",
        "You may assume that the input tree is non-empty."
      ],
      "metadata": {
        "id": "ftdzeYCsosbu"
      }
    },
    {
      "cell_type": "code",
      "source": [
        "class Node:\n",
        "  def __init__(self,val):\n",
        "    self.val = val\n",
        "    self.left = None\n",
        "    self.right = None\n",
        "\n",
        "def all_tree_paths(root):\n",
        "  paths = _all_tree_paths(root)\n",
        "  for path in paths:\n",
        "    path.reverse()\n",
        "  return paths\n",
        "\n",
        "def _all_tree_paths(root):\n",
        "  if root is None: return []\n",
        "  if root.left is None and root.right is None:\n",
        "    return [[root.val]]\n",
        "\n",
        "  all_paths = []\n",
        "\n",
        "  left_paths = _all_tree_paths(root.left)\n",
        "  for path in left_paths:\n",
        "    path.append(root.val)\n",
        "    all_paths.append(path)\n",
        "\n",
        "  right_paths = _all_tree_paths(root.right)\n",
        "  for path in right_paths:\n",
        "    path.append(root.val)\n",
        "    all_paths.append(path)\n",
        "\n",
        "  return all_paths\n",
        "\n",
        "a = Node('a')\n",
        "b = Node('b')\n",
        "c = Node('c')\n",
        "d = Node('d')\n",
        "e = Node('e')\n",
        "f = Node('f')\n",
        "\n",
        "a.left = b\n",
        "a.right = c\n",
        "b.left = d\n",
        "b.right = e\n",
        "c.right = f\n",
        "\n",
        "#      a\n",
        "#    /   \\\n",
        "#   b     c\n",
        "#  / \\     \\\n",
        "# d   e     f\n",
        "\n",
        "all_tree_paths(a) # ->\n",
        "# [\n",
        "#   [ 'a', 'b', 'd' ],\n",
        "#   [ 'a', 'b', 'e' ],\n",
        "#   [ 'a', 'c', 'f' ]\n",
        "# ]\n"
      ],
      "metadata": {
        "colab": {
          "base_uri": "https://localhost:8080/"
        },
        "id": "3Oc0spyjowtq",
        "outputId": "907791c5-2352-4631-8a41-c60fe14fe7da"
      },
      "execution_count": null,
      "outputs": [
        {
          "output_type": "execute_result",
          "data": {
            "text/plain": [
              "[['a', 'b', 'd'], ['a', 'b', 'e'], ['a', 'c', 'f']]"
            ]
          },
          "metadata": {},
          "execution_count": 1
        }
      ]
    },
    {
      "cell_type": "markdown",
      "source": [
        "tree levels\n",
        "\n",
        "Write a function, tree_levels, that takes in the root of a binary tree. The function should return a 2-Dimensional list where each sublist represents a level of the tree."
      ],
      "metadata": {
        "id": "0tvVj1rTsbFX"
      }
    },
    {
      "cell_type": "code",
      "source": [
        "class Node:\n",
        "  def __init__(self, val):\n",
        "    self.val = val\n",
        "    self.left = None\n",
        "    self.right = None\n",
        "\n",
        "def tree_levels(root):\n",
        "  if root is None: return []\n",
        "  lvl_count = 0\n",
        "  stack = [(root, 0)]\n",
        "  levels = []\n",
        "\n",
        "  while stack:\n",
        "    current, level_num = stack.pop()\n",
        "    if len(levels) == level_num:\n",
        "      levels.append([current.val])\n",
        "    else:\n",
        "      levels[level_num].append(current.val)\n",
        "\n",
        "    if current.right is not None:\n",
        "      stack.append((current.right, level_num + 1))\n",
        "    if current.left is not None:\n",
        "      stack.append((current.left, level_num + 1))\n",
        "\n",
        "  return levels\n",
        "\n",
        "a = Node('a')\n",
        "b = Node('b')\n",
        "c = Node('c')\n",
        "d = Node('d')\n",
        "e = Node('e')\n",
        "f = Node('f')\n",
        "\n",
        "a.left = b\n",
        "a.right = c\n",
        "b.left = d\n",
        "b.right = e\n",
        "c.right = f\n",
        "\n",
        "#      a\n",
        "#    /   \\\n",
        "#   b     c\n",
        "#  / \\     \\\n",
        "# d   e     f\n",
        "\n",
        "tree_levels(a) # ->\n",
        "# [\n",
        "#   ['a'],\n",
        "#   ['b', 'c'],\n",
        "#   ['d', 'e', 'f']\n",
        "# ]"
      ],
      "metadata": {
        "id": "ueVEiqALskNr",
        "outputId": "41150479-f2bc-4021-beb8-252642c57a34",
        "colab": {
          "base_uri": "https://localhost:8080/"
        }
      },
      "execution_count": null,
      "outputs": [
        {
          "output_type": "execute_result",
          "data": {
            "text/plain": [
              "[['a'], ['b', 'c'], ['d', 'e', 'f']]"
            ]
          },
          "metadata": {},
          "execution_count": 4
        }
      ]
    },
    {
      "cell_type": "markdown",
      "source": [
        "level averages\n",
        "\n",
        "Write a function, level_averages, that takes in the root of a binary tree that contains number values. The function should return a list containing the average value of each level."
      ],
      "metadata": {
        "id": "gX2b7dli74-O"
      }
    },
    {
      "cell_type": "markdown",
      "source": [],
      "metadata": {
        "id": "QVgQVEWsLFee"
      }
    },
    {
      "cell_type": "code",
      "source": [
        "class Node:\n",
        "  def __init__(self, val):\n",
        "    self.val = val\n",
        "    self.left = None\n",
        "    self.right = None\n",
        "\n",
        "def level_averages(root):\n",
        "  if not root: return []\n",
        "  stack = [(root, 0)]\n",
        "  levels = []\n",
        "\n",
        "  while stack:\n",
        "    current, lvl_num = stack.pop()\n",
        "    if len(levels) == lvl_num:\n",
        "      levels.append([current.val])\n",
        "    else:\n",
        "      levels[lvl_num].append(current.val)\n",
        "\n",
        "    if current.right is not None:\n",
        "      stack.append((current.right, lvl_num + 1))\n",
        "    if current.left is not None:\n",
        "      stack.append((current.left, lvl_num + 1))\n",
        "\n",
        "  averages = []\n",
        "\n",
        "  for level in levels:\n",
        "    averages.append(sum(level) / len(level))\n",
        "\n",
        "  return averages\n",
        "\n",
        "\n",
        "a = Node(3)\n",
        "b = Node(11)\n",
        "c = Node(4)\n",
        "d = Node(4)\n",
        "e = Node(-2)\n",
        "f = Node(1)\n",
        "\n",
        "a.left = b\n",
        "a.right = c\n",
        "b.left = d\n",
        "b.right = e\n",
        "c.right = f\n",
        "\n",
        "#       3\n",
        "#    /    \\\n",
        "#   11     4\n",
        "#  / \\      \\\n",
        "# 4   -2     1\n",
        "\n",
        "level_averages(a) # -> [ 3, 7.5, 1 ]"
      ],
      "metadata": {
        "colab": {
          "base_uri": "https://localhost:8080/"
        },
        "id": "lx47-cvN779C",
        "outputId": "94e104a6-9265-4e27-f953-85e5a8604b3d"
      },
      "execution_count": null,
      "outputs": [
        {
          "output_type": "execute_result",
          "data": {
            "text/plain": [
              "[3.0, 7.5, 1.0]"
            ]
          },
          "metadata": {},
          "execution_count": 1
        }
      ]
    },
    {
      "cell_type": "markdown",
      "source": [
        "leaf list\n",
        "\n",
        "Write a function, leaf_list, that takes in the root of a binary tree and returns a list containing the values of all leaf nodes in left-to-right order."
      ],
      "metadata": {
        "id": "JQ28ktOALJ7W"
      }
    },
    {
      "cell_type": "code",
      "source": [
        "class Node:\n",
        "  def __init__(self, val):\n",
        "    self.val = val\n",
        "    self.left = None\n",
        "    self.right = None\n",
        "\n",
        "def leaf_list(root):\n",
        "  if root is None:\n",
        "    return []\n",
        "\n",
        "  leaves = []\n",
        "\n",
        "  stack = [ root ]\n",
        "  while stack:\n",
        "    current = stack.pop()\n",
        "\n",
        "    if not current.left and not current.right:\n",
        "      leaves.append(current.val)\n",
        "\n",
        "    if current.right is not None:\n",
        "      stack.append(current.right)\n",
        "\n",
        "    if current.left is not None:\n",
        "      stack.append(current.left)\n",
        "\n",
        "  return leaves\n",
        "\n",
        "\n",
        "a = Node(\"a\")\n",
        "b = Node(\"b\")\n",
        "c = Node(\"c\")\n",
        "d = Node(\"d\")\n",
        "e = Node(\"e\")\n",
        "f = Node(\"f\")\n",
        "\n",
        "a.left = b\n",
        "a.right = c\n",
        "b.left = d\n",
        "b.right = e\n",
        "c.right = f\n",
        "\n",
        "#      a\n",
        "#    /   \\\n",
        "#   b     c\n",
        "#  / \\     \\\n",
        "# d   e     f\n",
        "\n",
        "leaf_list(a) # -> [ 'd', 'e', 'f' ]"
      ],
      "metadata": {
        "colab": {
          "base_uri": "https://localhost:8080/"
        },
        "id": "4SGG4EbFLNQv",
        "outputId": "c7fef8cd-363c-4acf-d698-cfdc2e1c6374"
      },
      "execution_count": null,
      "outputs": [
        {
          "output_type": "execute_result",
          "data": {
            "text/plain": [
              "['d', 'e', 'f']"
            ]
          },
          "metadata": {},
          "execution_count": 1
        }
      ]
    },
    {
      "cell_type": "markdown",
      "source": [
        "# Two Pointer"
      ],
      "metadata": {
        "id": "mUX6aEv3jyyZ"
      }
    },
    {
      "cell_type": "markdown",
      "source": [
        "is palindrome\n",
        "\n",
        "Write a function, is_palindrome, that takes in a string and returns a boolean indicating whether or not the string is the same forwards and backwards."
      ],
      "metadata": {
        "id": "FOKD6yPSj3D0"
      }
    },
    {
      "cell_type": "code",
      "source": [
        "def is_palindrome(s):\n",
        "  left = 0\n",
        "  right = len(s) - 1\n",
        "\n",
        "  while left < right and left != right:\n",
        "    if s[left] != s[right]:\n",
        "      return False\n",
        "    right -= 1\n",
        "    left += 1\n",
        "\n",
        "  return True\n",
        "\n",
        "is_palindrome(\"pop\") # -> True"
      ],
      "metadata": {
        "colab": {
          "base_uri": "https://localhost:8080/"
        },
        "id": "Z-9USrb4j_Cw",
        "outputId": "ac59d7ee-4cd0-4ad6-c07c-1bc829870fd9"
      },
      "execution_count": null,
      "outputs": [
        {
          "output_type": "execute_result",
          "data": {
            "text/plain": [
              "True"
            ]
          },
          "metadata": {},
          "execution_count": 1
        }
      ]
    },
    {
      "cell_type": "markdown",
      "source": [
        "uncompress\n",
        "\n",
        "Write a function, uncompress, that takes in a string as an argument. The input string will be formatted into multiple groups according to the following pattern:\n",
        "\n",
        "number char\n",
        "\n",
        "for example, '2c' or '3a'.\n",
        "\n",
        "The function should return an uncompressed version of the string where each 'char' of a group is repeated 'number' times consecutively. You may assume that the input string is well-formed according to the previously mentioned pattern.\n",
        "\n"
      ],
      "metadata": {
        "id": "7Y5yzK3h5r22"
      }
    },
    {
      "cell_type": "code",
      "source": [
        "def uncompress(s):\n",
        "  numbers = '0123456789'\n",
        "  result = []\n",
        "  start = 0\n",
        "  end = 0\n",
        "\n",
        "  while end < len(s):\n",
        "    if s[end] in numbers:\n",
        "      end += 1\n",
        "    else:\n",
        "      num = int(s[start:end])\n",
        "      result.append(s[end] * num)\n",
        "      end += 1\n",
        "      start = end\n",
        "\n",
        "  return ''.join(result)\n",
        "\n",
        "print(uncompress('2c3a1t')) # -> 'ccaaat'\n",
        "print(uncompress('4s2b')) # -> 'ssssbb'"
      ],
      "metadata": {
        "colab": {
          "base_uri": "https://localhost:8080/"
        },
        "id": "HX_qZ_S36Mhe",
        "outputId": "2b14e9d1-b196-41e0-efcc-528843c49802"
      },
      "execution_count": null,
      "outputs": [
        {
          "output_type": "stream",
          "name": "stdout",
          "text": [
            "ccaaat\n",
            "ssssbb\n"
          ]
        }
      ]
    },
    {
      "cell_type": "markdown",
      "source": [
        "compress\n",
        "\n",
        "Write a function, compress, that takes in a string as an argument. The function should return a compressed version of the string where consecutive occurrences of the same characters are compressed into the number of occurrences followed by the character. Single character occurrences should not be changed.\n",
        "\n",
        "'aaa' compresses to '3a'\n",
        "\n",
        "'cc' compresses to '2c'\n",
        "\n",
        "'t' should remain as 't'\n",
        "\n",
        "You can assume that the input only contains alphabetic characters."
      ],
      "metadata": {
        "id": "jpTdBOVP_01A"
      }
    },
    {
      "cell_type": "code",
      "source": [
        "def compress(s):\n",
        "  s += '!'\n",
        "  result = []\n",
        "  i = 0\n",
        "  j = 0\n",
        "  count = 0\n",
        "\n",
        "  while j < len(s):\n",
        "    if s[i] == s[j]:\n",
        "      j += 1\n",
        "    else:\n",
        "      num = j - i\n",
        "      if num == 1:\n",
        "        result.append(s[i])\n",
        "      else:\n",
        "        result.append(str(num))\n",
        "        result.append(s[i])\n",
        "      i = j\n",
        "\n",
        "  return ''.join(result)\n",
        "\n",
        "print(compress('ccaaatsss')) # -> '2c3at3s'\n",
        "print(compress('ssssbbz')) # -> '4s2bz'\n",
        "print(compress('ppoppppp')) # -> '2po5p'"
      ],
      "metadata": {
        "colab": {
          "base_uri": "https://localhost:8080/"
        },
        "id": "N2xUlRSa_0eC",
        "outputId": "7dda0c9c-2e7a-4ef8-d50d-f037110a05a0"
      },
      "execution_count": null,
      "outputs": [
        {
          "output_type": "stream",
          "name": "stdout",
          "text": [
            "2c3at3s\n",
            "4s2bz\n",
            "2po5p\n"
          ]
        }
      ]
    },
    {
      "cell_type": "markdown",
      "source": [
        "intersection\n",
        "\n",
        "Write a function, intersection, that takes in two lists, a,b, as arguments. The function should return a new list containing elements that are in both of the two lists.\n",
        "\n",
        "You may assume that each input list does not contain duplicate elements."
      ],
      "metadata": {
        "id": "CygC1pjnq9zf"
      }
    },
    {
      "cell_type": "code",
      "source": [
        "def intersection(a, b):\n",
        "  set_a = set(a)\n",
        "  set_b = set(b)\n",
        "  intersect = set_a.intersection(set_b)\n",
        "  return list(intersect)\n",
        "\n",
        "print(intersection([4,2,1,6], [3,6,9,2,10])) # -> [2,6]\n",
        "print(intersection([4,2,1], [1,2,4,6])) # -> [1,2,4]"
      ],
      "metadata": {
        "colab": {
          "base_uri": "https://localhost:8080/"
        },
        "id": "ftj7f4qarAxP",
        "outputId": "e6534bd2-3989-4814-c2d9-f08f346467e4"
      },
      "execution_count": null,
      "outputs": [
        {
          "output_type": "stream",
          "name": "stdout",
          "text": [
            "[2, 6]\n",
            "[1, 2, 4]\n"
          ]
        }
      ]
    },
    {
      "cell_type": "markdown",
      "source": [
        "five sort\n",
        "\n",
        "Write a function, five_sort, that takes in a list of numbers as an argument. The function should rearrange elements of the list such that all 5s appear at the end. Your function should perform this operation in-place by mutating the original list. The function should return the list.\n",
        "\n",
        "Elements that are not 5 can appear in any order in the output, as long as all 5s are at the end of the list."
      ],
      "metadata": {
        "id": "tTvOYeDE2pTT"
      }
    },
    {
      "cell_type": "code",
      "source": [
        "def five_sort(nums):\n",
        "  i = 0\n",
        "  j = len(nums) - 1\n",
        "\n",
        "  while i < j:\n",
        "    if nums[j] == 5:\n",
        "      j -= 1\n",
        "    elif nums[i] == 5:\n",
        "      nums[i], nums[j] = nums[j], nums[i]\n",
        "      i += 1\n",
        "    else:\n",
        "      i += 1\n",
        "\n",
        "  return nums\n",
        "\n",
        "print(five_sort([5, 2, 5, 6, 5, 1])) # -> [1, 2, 6, 5, 5, 5]\n",
        "print(five_sort([5, 5, 5, 1, 1, 1, 4]))\n",
        "# -> [4, 1, 1, 1, 5, 5, 5]\n"
      ],
      "metadata": {
        "colab": {
          "base_uri": "https://localhost:8080/"
        },
        "outputId": "c7cfe789-ad43-426e-e8b6-c8ce635d8acc",
        "id": "O27GvQ92kwuy"
      },
      "execution_count": null,
      "outputs": [
        {
          "output_type": "stream",
          "name": "stdout",
          "text": [
            "[1, 2, 6, 5, 5, 5]\n",
            "[4, 1, 1, 1, 5, 5, 5]\n"
          ]
        }
      ]
    },
    {
      "cell_type": "markdown",
      "source": [
        "is subsequence\n",
        "\n",
        "Write a function, is_subsequence, that takes in string_1 and string_2. The function should return a boolean indicating whether or not string1 is a subsequence of string2.\n",
        "\n",
        "A subsequence is a string that can be formed by deleting 0 or more characters from another string."
      ],
      "metadata": {
        "id": "x7tDgFy7MifI"
      }
    },
    {
      "cell_type": "code",
      "source": [
        "def is_subsequence(string_1, string_2):\n",
        "  i = 0\n",
        "  j = 0\n",
        "\n",
        "  while i < len(string_1) and j < len(string_2):\n",
        "    if string_1[i] == string_2[j]:\n",
        "      i += 1\n",
        "      j += 1\n",
        "    else:\n",
        "      j += 1\n",
        "\n",
        "  return i == len(string_1)\n",
        "\n",
        "is_subsequence(\"bda\", \"abcdef\") # -> False"
      ],
      "metadata": {
        "colab": {
          "base_uri": "https://localhost:8080/"
        },
        "id": "t3xxvKV7MlQ_",
        "outputId": "54a39f3b-53be-4163-e86f-5c09de237f93"
      },
      "execution_count": null,
      "outputs": [
        {
          "output_type": "execute_result",
          "data": {
            "text/plain": [
              "False"
            ]
          },
          "metadata": {},
          "execution_count": 1
        }
      ]
    },
    {
      "cell_type": "markdown",
      "source": [
        "# Graphs"
      ],
      "metadata": {
        "id": "rmbc1Df8MB_U"
      }
    },
    {
      "cell_type": "markdown",
      "source": [
        "has path\n",
        "\n",
        "Write a function, has_path, that takes in a dictionary representing the adjacency list of a directed acyclic graph and two nodes (src, dst). The function should return a boolean indicating whether or not there exists a directed path between the source and destination nodes."
      ],
      "metadata": {
        "id": "DQaOPn2PMEY2"
      }
    },
    {
      "cell_type": "code",
      "source": [
        "def has_path(graph, src, dst):\n",
        "  stack = [src]\n",
        "  while stack:\n",
        "    current = stack.pop()\n",
        "    if current == dst:\n",
        "      return True\n",
        "    for neighbor in graph[current]:\n",
        "      stack.append(neighbor)\n",
        "  return False\n",
        "\n",
        "\n",
        "# f -> g ->\n",
        "# |\n",
        "# i\n",
        "\n",
        "graph = {\n",
        "  'f': ['g', 'i'],\n",
        "  'g': ['h'],\n",
        "  'h': [],\n",
        "  'i': ['g', 'k'],\n",
        "  'j': ['i'],\n",
        "  'k': []\n",
        "}\n",
        "\n",
        "print(has_path(graph, 'f', 'k'))# True"
      ],
      "metadata": {
        "colab": {
          "base_uri": "https://localhost:8080/"
        },
        "id": "0-KVkBCOMHGY",
        "outputId": "3f7c119c-7062-4ccf-fe99-046dc4f2fd00"
      },
      "execution_count": null,
      "outputs": [
        {
          "output_type": "stream",
          "name": "stdout",
          "text": [
            "True\n"
          ]
        }
      ]
    },
    {
      "cell_type": "markdown",
      "source": [
        "undirected path\n",
        "\n",
        "Write a function, undirected_path, that takes in a list of edges for an undirected graph and two nodes (node_A, node_B). The function should return a boolean indicating whether or not there exists a path between node_A and node_B."
      ],
      "metadata": {
        "id": "-vmUc2EUd60_"
      }
    },
    {
      "cell_type": "code",
      "source": [
        "def undirected_path(edges, node_A, node_B):\n",
        "  graph = build_Graph(edges)\n",
        "  return has_path(graph, node_A, node_B, set())\n",
        "\n",
        "def has_path(graph, src, dst, visited):\n",
        "  if src == dst:\n",
        "    return True\n",
        "\n",
        "  if src in visited:\n",
        "    return False\n",
        "\n",
        "  visited.add(src)\n",
        "\n",
        "  for neighbor in graph[src]:\n",
        "    if has_path(graph, neighbor, dst, visited) == True:\n",
        "      return True\n",
        "\n",
        "  return False\n",
        "\n",
        "\n",
        "def build_Graph(edges):\n",
        "  graph = {}\n",
        "\n",
        "  for edge in edges:\n",
        "    a,b = edge\n",
        "    if a not in graph:\n",
        "      graph[a] = []\n",
        "    if b not in graph:\n",
        "      graph[b] = []\n",
        "\n",
        "    graph[a].append(b)\n",
        "    graph[b].append(a)\n",
        "\n",
        "  return graph\n",
        "\n",
        "\n",
        "edges = [\n",
        "  ('i', 'j'),\n",
        "  ('k', 'i'),\n",
        "  ('m', 'k'),\n",
        "  ('k', 'l'),\n",
        "  ('o', 'n')\n",
        "]\n",
        "\n",
        "print(undirected_path(edges, 'j', 'm')) # -> True\n",
        "print(undirected_path(edges, 'j', 'o')) # -> False"
      ],
      "metadata": {
        "colab": {
          "base_uri": "https://localhost:8080/"
        },
        "id": "hOx46OxAd-0P",
        "outputId": "62cff4c2-7c65-4bb7-8834-de4caa57876a"
      },
      "execution_count": null,
      "outputs": [
        {
          "output_type": "stream",
          "name": "stdout",
          "text": [
            "True\n",
            "False\n"
          ]
        }
      ]
    },
    {
      "cell_type": "markdown",
      "source": [
        "connected components count\n",
        "\n",
        "Write a function, connected_components_count, that takes in the adjacency list of an undirected graph. The function should return the number of connected components within the graph."
      ],
      "metadata": {
        "id": "5qDDtG-4t4Ik"
      }
    },
    {
      "cell_type": "code",
      "source": [
        "def connected_components_count(graph):\n",
        "  visited = set()\n",
        "\n",
        "  count = 0\n",
        "  for node in graph:\n",
        "    if explore(graph, node, visited) == True:\n",
        "      count += 1\n",
        "  return count\n",
        "\n",
        "def explore(graph, current, visited):\n",
        "  if current in visited:\n",
        "    return False\n",
        "\n",
        "  visited.add(current)\n",
        "\n",
        "  for neighbor in graph[current]:\n",
        "\n",
        "    explore(graph, neighbor, visited)\n",
        "\n",
        "  return True\n",
        "\n",
        "connected_components_count({\n",
        "  0: [8, 1, 5],\n",
        "  1: [0],\n",
        "  5: [0, 8],\n",
        "  8: [0, 5],\n",
        "  2: [3, 4],\n",
        "  3: [2, 4],\n",
        "  4: [3, 2]\n",
        "}) # -> 2"
      ],
      "metadata": {
        "colab": {
          "base_uri": "https://localhost:8080/"
        },
        "id": "CZR2tZDxt6-Z",
        "outputId": "049ce61a-9735-409e-ead0-02b7f055c325"
      },
      "execution_count": null,
      "outputs": [
        {
          "output_type": "execute_result",
          "data": {
            "text/plain": [
              "2"
            ]
          },
          "metadata": {},
          "execution_count": 1
        }
      ]
    },
    {
      "cell_type": "markdown",
      "source": [
        "largest component\n",
        "\n",
        "Write a function, largest_component, that takes in the adjacency list of an undirected graph. The function should return the size of the largest connected component in the graph."
      ],
      "metadata": {
        "id": "vpeZ2_k1iTuG"
      }
    },
    {
      "cell_type": "code",
      "source": [
        "def largest_component(graph):\n",
        "  visited = set()\n",
        "  maxCount = 0\n",
        "\n",
        "  for node in graph:\n",
        "    maxCount = max(maxCount, explore_count(graph, node, visited))\n",
        "\n",
        "  return maxCount\n",
        "\n",
        "def explore_count(graph, current, visited):\n",
        "  if current in visited:\n",
        "    return 0\n",
        "\n",
        "  visited.add(current)\n",
        "\n",
        "  count = 1\n",
        "  for neighbor in graph[current]:\n",
        "    count += explore_count(graph, neighbor, visited)\n",
        "\n",
        "  return count\n",
        "\n",
        "largest_component({\n",
        "  0: [8, 1, 5],\n",
        "  1: [0],\n",
        "  5: [0, 8],\n",
        "  8: [0, 5],\n",
        "  2: [3, 4],\n",
        "  3: [2, 4],\n",
        "  4: [3, 2]\n",
        "}) # -> 4"
      ],
      "metadata": {
        "colab": {
          "base_uri": "https://localhost:8080/"
        },
        "id": "Bud74pkLiWPm",
        "outputId": "cdf55432-2ef9-420e-a126-846207e235a4"
      },
      "execution_count": null,
      "outputs": [
        {
          "output_type": "execute_result",
          "data": {
            "text/plain": [
              "4"
            ]
          },
          "metadata": {},
          "execution_count": 1
        }
      ]
    },
    {
      "cell_type": "markdown",
      "source": [
        "shortest path\n",
        "\n",
        "Write a function, shortest_path, that takes in a list of edges for an undirected graph and two nodes (node_A, node_B). The function should return the length of the shortest path between A and B. Consider the length as the number of edges in the path, not the number of nodes. If there is no path between A and B, then return -1. You can assume that A and B exist as nodes in the graph."
      ],
      "metadata": {
        "id": "9S8W-xSE6zsN"
      }
    },
    {
      "cell_type": "code",
      "source": [
        "from collections import deque\n",
        "\n",
        "def shortest_path(edges, node_A, node_B):\n",
        "  visited = set()\n",
        "  graph = build_graph(edges)\n",
        "  queue = deque([(node_A, 0)])\n",
        "\n",
        "  while queue:\n",
        "    node, distance = queue.popleft()\n",
        "    if node in visited:\n",
        "      continue\n",
        "\n",
        "    visited.add(node)\n",
        "\n",
        "    if node == node_B:\n",
        "      return distance\n",
        "\n",
        "    for neighbor in graph[node]:\n",
        "      queue.append((neighbor, distance + 1))\n",
        "\n",
        "  return -1\n",
        "\n",
        "\n",
        "def build_graph(edges):\n",
        "  graph = dict()\n",
        "\n",
        "  for edge in edges:\n",
        "    a,b = edge\n",
        "\n",
        "    if a not in graph:\n",
        "      graph[a] = []\n",
        "    if b not in graph:\n",
        "      graph[b] = []\n",
        "\n",
        "    graph[a].append(b)\n",
        "    graph[b].append(a)\n",
        "\n",
        "  return graph\n",
        "\n",
        "edges = [\n",
        "  ['w', 'x'],\n",
        "  ['x', 'y'],\n",
        "  ['z', 'y'],\n",
        "  ['z', 'v'],\n",
        "  ['w', 'v']\n",
        "]\n",
        "\n",
        "print(shortest_path(edges, 'w', 'z')) # -> 2"
      ],
      "metadata": {
        "id": "4L8IITbS66XT"
      },
      "execution_count": null,
      "outputs": []
    },
    {
      "cell_type": "markdown",
      "source": [
        "island count\n",
        "\n",
        "Write a function, island_count, that takes in a grid containing Ws and Ls. W represents water and L represents land. The function should return the number of islands on the grid. An island is a vertically or horizontally connected region of land.\n",
        "\n"
      ],
      "metadata": {
        "id": "EPsjAn1dzReY"
      }
    },
    {
      "cell_type": "code",
      "source": [
        "def island_count(grid):\n",
        "  visited = set()\n",
        "  count = 0\n",
        "\n",
        "  for r in range(len(grid)):\n",
        "    for c in range(len(grid[0])):\n",
        "      if explore(grid, r, c, visited) == True:\n",
        "        count += 1\n",
        "\n",
        "  return count\n",
        "\n",
        "def explore(grid, r, c, visited):\n",
        "  row_inbounds = 0 <= r < len(grid)\n",
        "  col_inbounds = 0 <= c < len(grid[0])\n",
        "  if not row_inbounds or not col_inbounds:\n",
        "    return False\n",
        "\n",
        "  if grid[r][c] == 'W':\n",
        "    return False\n",
        "\n",
        "  pos = (r,c)\n",
        "  if pos in visited:\n",
        "    return False\n",
        "  visited.add(pos)\n",
        "\n",
        "  explore(grid, r - 1, c, visited)\n",
        "  explore(grid, r + 1, c, visited)\n",
        "  explore(grid, r, c - 1, visited)\n",
        "  explore(grid, r, c + 1, visited)\n",
        "  return True\n",
        "\n",
        "grid = [\n",
        "  ['W', 'L', 'W', 'W', 'W'],\n",
        "  ['W', 'L', 'W', 'W', 'W'],\n",
        "  ['W', 'W', 'W', 'L', 'W'],\n",
        "  ['W', 'W', 'L', 'L', 'W'],\n",
        "  ['L', 'W', 'W', 'L', 'L'],\n",
        "  ['L', 'L', 'W', 'W', 'W'],\n",
        "]\n",
        "\n",
        "island_count(grid) # -> 3"
      ],
      "metadata": {
        "colab": {
          "base_uri": "https://localhost:8080/"
        },
        "id": "iCG7r5j2zWYq",
        "outputId": "aed87482-2f0f-4d18-9570-fe86e3046e25"
      },
      "execution_count": null,
      "outputs": [
        {
          "output_type": "execute_result",
          "data": {
            "text/plain": [
              "3"
            ]
          },
          "metadata": {},
          "execution_count": 1
        }
      ]
    },
    {
      "cell_type": "markdown",
      "source": [
        "minimum island\n",
        "\n",
        "Write a function, minimum_island, that takes in a grid containing Ws and Ls. W represents water and L represents land. The function should return the size of the smallest island. An island is a vertically or horizontally connected region of land.\n",
        "\n",
        "You may assume that the grid contains at least one island."
      ],
      "metadata": {
        "id": "ETw6ZlrlnTHj"
      }
    },
    {
      "cell_type": "code",
      "source": [
        "def minimum_island(grid):\n",
        "  visited = set()\n",
        "  sizes = []\n",
        "  min_size = float('inf')\n",
        "\n",
        "  for row in range(len(grid)):\n",
        "    for col in range(len(grid[0])):\n",
        "      size = explore_size(grid, row, col, visited)\n",
        "      if size > 0 and size < min_size:\n",
        "        min_size = size\n",
        "\n",
        "  return min_size\n",
        "\n",
        "def explore_size(grid, r, c, visited):\n",
        "  row_inbounds = 0 <= r < len(grid)\n",
        "  col_inbounds = 0 <= c < len(grid[0])\n",
        "  0\n",
        "  if not row_inbounds or not col_inbounds:\n",
        "    return 0\n",
        "\n",
        "  if grid[r][c] == \"W\":\n",
        "    return 0\n",
        "\n",
        "  pos = (r,c)\n",
        "  if pos in visited:\n",
        "    return 0\n",
        "  visited.add(pos)\n",
        "\n",
        "  return 1 + explore_size(grid, r - 1, c, visited) + explore_size(grid, r + 1, c, visited) + explore_size(grid, r, c - 1, visited) + explore_size(grid, r, c + 1, visited)\n",
        "\n",
        "grid = [\n",
        "  ['W', 'L', 'W', 'W', 'W'],\n",
        "  ['W', 'L', 'W', 'W', 'W'],\n",
        "  ['W', 'W', 'W', 'L', 'W'],\n",
        "  ['W', 'W', 'L', 'L', 'W'],\n",
        "  ['L', 'W', 'W', 'L', 'L'],\n",
        "  ['L', 'L', 'W', 'W', 'W'],\n",
        "]\n",
        "\n",
        "minimum_island(grid) # -> 2"
      ],
      "metadata": {
        "colab": {
          "base_uri": "https://localhost:8080/"
        },
        "id": "77W9oE2JnT9A",
        "outputId": "6efacf72-f080-4ca3-8328-bc8a571b959f"
      },
      "execution_count": null,
      "outputs": [
        {
          "output_type": "execute_result",
          "data": {
            "text/plain": [
              "2"
            ]
          },
          "metadata": {},
          "execution_count": 2
        }
      ]
    },
    {
      "cell_type": "markdown",
      "source": [
        "closest carrot\n",
        "\n",
        "Write a function, closest_carrot, that takes in a grid, a starting row, and a starting column. In the grid, 'X's are walls, 'O's are open spaces, and 'C's are carrots. The function should return a number representing the length of the shortest path from the starting position to a carrot. You may move up, down, left, or right, but cannot pass through walls (X). If there is no possible path to a carrot, then return -1."
      ],
      "metadata": {
        "id": "p8qVhpRnPaHv"
      }
    },
    {
      "cell_type": "code",
      "source": [
        "from collections import deque\n",
        "\n",
        "def closest_carrot(grid, starting_row, starting_col):\n",
        "  visited = set([ (starting_row, starting_col) ])\n",
        "  queue = deque([(starting_row, starting_col, 0)])\n",
        "\n",
        "  while queue:\n",
        "    row, col, distance = queue.popleft()\n",
        "\n",
        "    if grid[row][col] == \"C\":\n",
        "      return distance\n",
        "\n",
        "    deltas = [ (1, 0), (-1, 0), (0,1), (0, -1) ]\n",
        "    for delta in deltas:\n",
        "      delta_row, delta_col = delta\n",
        "      neighbor_row = row + delta_row\n",
        "      neighbor_col = col + delta_col\n",
        "      row_inbounds = 0 <= neighbor_row < len(grid)\n",
        "      col_inbounds = 0 <= neighbor_col < len(grid[0])\n",
        "      pos = (neighbor_row, neighbor_col)\n",
        "      if row_inbounds and col_inbounds and grid[neighbor_row][neighbor_col] != 'X' and pos not in visited:\n",
        "        queue.append((neighbor_row, neighbor_col, distance + 1))\n",
        "        visited.add(pos)\n",
        "\n",
        "  return -1\n",
        "\n",
        "grid = [\n",
        "  ['O', 'O', 'O', 'O', 'O'],\n",
        "  ['O', 'X', 'O', 'O', 'O'],\n",
        "  ['O', 'X', 'X', 'O', 'O'],\n",
        "  ['O', 'X', 'C', 'O', 'O'],\n",
        "  ['O', 'X', 'X', 'O', 'O'],\n",
        "  ['C', 'O', 'O', 'O', 'O'],\n",
        "]\n",
        "\n",
        "closest_carrot(grid, 1, 2) # -> 4"
      ],
      "metadata": {
        "colab": {
          "base_uri": "https://localhost:8080/"
        },
        "id": "KX6tD9NxPcdT",
        "outputId": "3eccff8c-0d52-40d8-888f-c1bfdae0e3ca"
      },
      "execution_count": null,
      "outputs": [
        {
          "output_type": "execute_result",
          "data": {
            "text/plain": [
              "4"
            ]
          },
          "metadata": {},
          "execution_count": 1
        }
      ]
    },
    {
      "cell_type": "markdown",
      "source": [
        "longest path\n",
        "\n",
        "Write a function, longest_path, that takes in an adjacency list for a directed acyclic graph. The function should return the length of the longest path within the graph. A path may start and end at any two nodes. The length of a path is considered the number of edges in the path, not the number of nodes."
      ],
      "metadata": {
        "id": "V2iLj-sW4Nn_"
      }
    },
    {
      "cell_type": "code",
      "source": [
        "def longest_path(graph):\n",
        "\n",
        "  distance = {}\n",
        "\n",
        "  for node in graph:\n",
        "    if len(graph[node]) == 0:\n",
        "      distance[node] = 0\n",
        "\n",
        "  for node in graph:\n",
        "    traverse_distance(graph, node, distance)\n",
        "\n",
        "  return max(distance.values())\n",
        "\n",
        "def traverse_distance(graph, node, distance):\n",
        "  if node in distance:\n",
        "    return distance[node]\n",
        "\n",
        "  max_length = 0\n",
        "  for neighbor in graph[node]:\n",
        "    attempt = traverse_distance(graph, neighbor, distance)\n",
        "    max_length = max(max_length, attempt)\n",
        "\n",
        "  distance[node] = 1 + max_length\n",
        "  return distance[node]\n",
        "\n",
        "graph = {\n",
        "  'a': ['c', 'b'],\n",
        "  'b': ['c'],\n",
        "  'c': [],\n",
        "  'q': ['r'],\n",
        "  'r': ['s', 'u', 't'],\n",
        "  's': ['t'],\n",
        "  't': ['u'],\n",
        "  'u': []\n",
        "}\n",
        "\n",
        "longest_path(graph) # -> 4"
      ],
      "metadata": {
        "colab": {
          "base_uri": "https://localhost:8080/"
        },
        "id": "jSm6tx9n4VlH",
        "outputId": "a980b5ad-a88d-427f-e6af-fe89ad99150c"
      },
      "execution_count": null,
      "outputs": [
        {
          "output_type": "execute_result",
          "data": {
            "text/plain": [
              "4"
            ]
          },
          "metadata": {},
          "execution_count": 1
        }
      ]
    },
    {
      "cell_type": "markdown",
      "source": [
        "semesters required\n",
        "\n",
        "Write a function, semesters_required, that takes in a number of courses (n) and a list of prerequisites as arguments. Courses have ids ranging from 0 through n - 1. A single prerequisite of (A, B) means that course A must be taken before course B. Return the minimum number of semesters required to complete all n courses. There is no limit on how many courses you can take in a single semester, as long as the prerequisites of a course are satisfied before taking it.\n",
        "\n",
        "Note that given prerequisite (A, B), you cannot take course A and course B concurrently in the same semester. You must take A in some semester before B.\n",
        "\n",
        "You can assume that it is possible to eventually complete all courses."
      ],
      "metadata": {
        "id": "gcIeXFAHBnSQ"
      }
    },
    {
      "cell_type": "code",
      "source": [
        "def semesters_required(num_courses, prereqs):\n",
        "  graph = build_graph(num_courses, prereqs)\n",
        "\n",
        "  distance = {}\n",
        "\n",
        "  for course in graph:\n",
        "    if len(graph[course]) == 0:\n",
        "      distance[course] = 1\n",
        "\n",
        "  for course in graph:\n",
        "    traverse_distance(graph, course, distance)\n",
        "\n",
        "  return max(distance.values())\n",
        "\n",
        "def traverse_distance(graph, node, distance):\n",
        "  if node in distance:\n",
        "    return distance[node]\n",
        "\n",
        "  max_distance = 0\n",
        "  for neighbor in graph[node]:\n",
        "    neighbor_distance = traverse_distance(graph, neighbor, distance)\n",
        "    if neighbor_distance > max_distance:\n",
        "      max_distance = neighbor_distance\n",
        "\n",
        "  distance[node] = 1 + neighbor_distance\n",
        "  return distance[node]\n",
        "\n",
        "\n",
        "def build_graph(num_courses, edges):\n",
        "  graph = {}\n",
        "\n",
        "  for course in range(0, num_courses):\n",
        "    graph[course] = []\n",
        "\n",
        "  for edge in edges:\n",
        "    a,b = edge\n",
        "    graph.setdefault(a, []).append(b)\n",
        "\n",
        "  return graph\n",
        "\n",
        "\n",
        "num_courses = 7\n",
        "prereqs = [\n",
        "  (4, 3),\n",
        "  (3, 2),\n",
        "  (2, 1),\n",
        "  (1, 0),\n",
        "  (5, 2),\n",
        "  (5, 6),\n",
        "]\n",
        "semesters_required(num_courses, prereqs) # -> 5"
      ],
      "metadata": {
        "colab": {
          "base_uri": "https://localhost:8080/"
        },
        "id": "LSzlp8lDBpvN",
        "outputId": "b2659a7c-07fd-4a5b-9ad4-d7f5643a73d2"
      },
      "execution_count": null,
      "outputs": [
        {
          "output_type": "execute_result",
          "data": {
            "text/plain": [
              "5"
            ]
          },
          "metadata": {},
          "execution_count": 1
        }
      ]
    },
    {
      "cell_type": "markdown",
      "source": [
        "best bridge\n",
        "\n",
        "Write a function, best_bridge, that takes in a grid as an argument. The grid contains water (W) and land (L). There are exactly two islands in the grid. An island is a vertically or horizontally connected region of land. Return the minimum length bridge needed to connect the two islands. A bridge does not need to form a straight line."
      ],
      "metadata": {
        "id": "MV4x2iaeKdik"
      }
    },
    {
      "cell_type": "code",
      "source": [
        "from collections import deque\n",
        "\n",
        "def best_bridge(grid):\n",
        "  main_island = None\n",
        "  for r in range(len(grid)):\n",
        "    for c in range(len(grid[0])):\n",
        "      potential_island = traverse_island(grid, r, c, set())\n",
        "      if len(potential_island) > 0:\n",
        "        main_island = potential_island\n",
        "        break\n",
        "\n",
        "  visited = set(main_island)\n",
        "  queue = deque([])\n",
        "  for pos in main_island:\n",
        "    r, c = pos\n",
        "    queue.append((r, c, 0))\n",
        "\n",
        "  while queue:\n",
        "    r, c, distance = queue.popleft()\n",
        "\n",
        "    if grid[r][c] == 'L' and (r,c) not in main_island:\n",
        "      return distance - 1\n",
        "\n",
        "    deltas = [(1,0), (-1, 0), (0,1), (0, -1)]\n",
        "    for delta in deltas:\n",
        "      delta_row, delta_col = delta\n",
        "      neighbor_row = r + delta_row\n",
        "      neighbor_col = c + delta_col\n",
        "      neighbor_pos = (neighbor_row, neighbor_col)\n",
        "      if is_inbounds(grid, neighbor_row, neighbor_col) and neighbor_pos not in visited:\n",
        "        visited.add(neighbor_pos)\n",
        "        queue.append((neighbor_row, neighbor_col, distance + 1))\n",
        "\n",
        "\n",
        "def is_inbounds(grid, r, c):\n",
        "  row_inbounds = 0 <= r < len(grid)\n",
        "  col_inbounds = 0 <= c < len(grid[0])\n",
        "  return row_inbounds and col_inbounds\n",
        "\n",
        "def traverse_island(grid, row, col, visited):\n",
        "  if not is_inbounds(grid, row, col) or grid[row][col] == \"W\":\n",
        "    return visited\n",
        "\n",
        "  pos = (row, col)\n",
        "  if pos in visited:\n",
        "    return visited\n",
        "\n",
        "  visited.add(pos)\n",
        "\n",
        "  traverse_island(grid, row - 1, col, visited)\n",
        "  traverse_island(grid, row + 1, col, visited)\n",
        "  traverse_island(grid, row, col - 1, visited)\n",
        "  traverse_island(grid, row, col + 1, visited)\n",
        "\n",
        "  return visited\n",
        "\n",
        "grid = [\n",
        "  [\"W\", \"W\", \"W\", \"L\", \"L\"],\n",
        "  [\"L\", \"L\", \"W\", \"W\", \"L\"],\n",
        "  [\"L\", \"L\", \"L\", \"W\", \"L\"],\n",
        "  [\"W\", \"L\", \"W\", \"W\", \"W\"],\n",
        "  [\"W\", \"W\", \"W\", \"W\", \"W\"],\n",
        "  [\"W\", \"W\", \"W\", \"W\", \"W\"],\n",
        "]\n",
        "best_bridge(grid) # -> 1"
      ],
      "metadata": {
        "colab": {
          "base_uri": "https://localhost:8080/"
        },
        "id": "vLX7qghXKf7q",
        "outputId": "9822fb20-a2ae-4305-9f93-65e5b41bbfd5"
      },
      "execution_count": null,
      "outputs": [
        {
          "output_type": "execute_result",
          "data": {
            "text/plain": [
              "1"
            ]
          },
          "metadata": {},
          "execution_count": 1
        }
      ]
    },
    {
      "cell_type": "markdown",
      "source": [
        "has cycle\n",
        "\n",
        "Write a function, has_cycle, that takes in an object representing the adjacency list of a directed graph. The function should return a boolean indicating whether or not the graph contains a cycle."
      ],
      "metadata": {
        "id": "8N1MV3yLt4Zu"
      }
    },
    {
      "cell_type": "code",
      "source": [
        "def has_cycle(graph):\n",
        "  visiting = set()\n",
        "  visited = set()\n",
        "\n",
        "  for node in graph:\n",
        "    if cycle_detected(graph, node, visiting, visited) == True:\n",
        "      return True\n",
        "\n",
        "\n",
        "  return False\n",
        "\n",
        "def cycle_detected(graph, node, visiting, visited):\n",
        "  if node in visiting:\n",
        "    return True\n",
        "\n",
        "  visiting.add(node)\n",
        "\n",
        "  for neighbor in graph[node]:\n",
        "    if cycle_detected(graph, neighbor, visiting, visited) == True:\n",
        "      return True\n",
        "  visiting.remove(node)\n",
        "  visited.add(node)\n",
        "\n",
        "  return False\n",
        "\n",
        "has_cycle({\n",
        "  \"a\": [\"b\", \"c\"],\n",
        "  \"b\": [],\n",
        "  \"c\": [],\n",
        "  \"e\": [\"f\"],\n",
        "  \"f\": [\"e\"],\n",
        "}) # -> True"
      ],
      "metadata": {
        "colab": {
          "base_uri": "https://localhost:8080/"
        },
        "id": "RhPQghdxuC7H",
        "outputId": "764ed196-a6be-445b-b38f-d710cf81e267"
      },
      "execution_count": null,
      "outputs": [
        {
          "output_type": "execute_result",
          "data": {
            "text/plain": [
              "True"
            ]
          },
          "metadata": {},
          "execution_count": 1
        }
      ]
    },
    {
      "cell_type": "markdown",
      "source": [
        "prereqs possible\n",
        "\n",
        "Write a function, prereqs_possible, that takes in a number of courses (n) and prerequisites as arguments. Courses have ids ranging from 0 through n - 1. A single prerequisite of (A, B) means that course A must be taken before course B. The function should return a boolean indicating whether or not it is possible to complete all courses."
      ],
      "metadata": {
        "id": "5epNiAaKDhRC"
      }
    },
    {
      "cell_type": "code",
      "source": [
        "def prereqs_possible(num_courses, prereqs):\n",
        "  visiting = set()\n",
        "  visited = set()\n",
        "\n",
        "  graph = build_graph(num_courses, prereqs)\n",
        "\n",
        "  for node in range(0, num_courses):\n",
        "    if has_cycle(graph, node, visiting, visited):\n",
        "      return False\n",
        "\n",
        "  return True\n",
        "\n",
        "def has_cycle(graph, node, visiting, visited):\n",
        "  if node in visited:\n",
        "    return False\n",
        "\n",
        "  if node in visiting:\n",
        "    return True\n",
        "\n",
        "  visiting.add(node)\n",
        "\n",
        "  for neighbor in graph[node]:\n",
        "    if has_cycle(graph, neighbor, visiting, visited) == True:\n",
        "      return True\n",
        "\n",
        "  visiting.remove(node)\n",
        "  visited.add(node)\n",
        "\n",
        "  return False\n",
        "\n",
        "def build_graph(num_courses, prereqs):\n",
        "  graph = {}\n",
        "\n",
        "  for i in range(0, num_courses):\n",
        "    graph[i] = []\n",
        "\n",
        "  for prereq in prereqs:\n",
        "    course_a, course_b = prereq\n",
        "    graph[course_a].append(course_b)\n",
        "\n",
        "  return graph\n",
        "\n",
        "numCourses = 6\n",
        "prereqs = [\n",
        "  (0, 1),\n",
        "  (2, 3),\n",
        "  (0, 2),\n",
        "  (1, 3),\n",
        "  (4, 5),\n",
        "]\n",
        "prereqs_possible(numCourses, prereqs) # -> True"
      ],
      "metadata": {
        "colab": {
          "base_uri": "https://localhost:8080/"
        },
        "id": "BOpYrzy0Di_d",
        "outputId": "830d1282-de31-4de4-81c7-955c57c5af75"
      },
      "execution_count": null,
      "outputs": [
        {
          "output_type": "execute_result",
          "data": {
            "text/plain": [
              "True"
            ]
          },
          "metadata": {},
          "execution_count": 1
        }
      ]
    },
    {
      "cell_type": "markdown",
      "source": [
        "# Dynamic Programming"
      ],
      "metadata": {
        "id": "iAMREnnQRPMb"
      }
    },
    {
      "cell_type": "markdown",
      "source": [
        "fib\n",
        "\n",
        "Write a function fib that takes in a number argument, n, and returns the n-th number of the Fibonacci sequence.\n",
        "\n",
        "The 0-th number of the sequence is 0.\n",
        "\n",
        "The 1-st number of the sequence is 1.\n",
        "\n",
        "To generate further numbers of the sequence, calculate the sum of previous two numbers.\n",
        "\n",
        "Solve this recursively."
      ],
      "metadata": {
        "id": "ZI0M0U1SRZ1c"
      }
    },
    {
      "cell_type": "code",
      "source": [
        "def fib(n, seen={}):\n",
        "  if n == 0: return 0\n",
        "  if n == 1: return 1\n",
        "  if n in seen: return seen[n]\n",
        "\n",
        "  seen[n] = fib(n - 1, seen) + fib(n - 2, seen)\n",
        "\n",
        "  return seen[n]\n",
        "\n",
        "fib(3) # -> 2"
      ],
      "metadata": {
        "colab": {
          "base_uri": "https://localhost:8080/"
        },
        "id": "hoImPtD-Scv9",
        "outputId": "a945ce48-17ca-4918-cee8-09d105da9661"
      },
      "execution_count": null,
      "outputs": [
        {
          "output_type": "execute_result",
          "data": {
            "text/plain": [
              "2"
            ]
          },
          "metadata": {},
          "execution_count": 1
        }
      ]
    },
    {
      "cell_type": "markdown",
      "source": [
        "tribonacci\n",
        "\n",
        "Write a function tribonacci that takes in a number argument, n, and returns the n-th number of the Tribonacci sequence.\n",
        "\n",
        "The 0-th and 1-st numbers of the sequence are both 0.\n",
        "\n",
        "The 2-nd number of the sequence is 1.\n",
        "\n",
        "To generate further numbers of the sequence, calculate the sum of previous three numbers.\n",
        "\n",
        "Solve this recursively."
      ],
      "metadata": {
        "id": "l2G50l_CanQa"
      }
    },
    {
      "cell_type": "code",
      "source": [
        "def tribonacci(n):\n",
        "  seen = {}\n",
        "  return _tribonacci(n, seen)\n",
        "\n",
        "def _tribonacci(n, seen):\n",
        "  if n == 1 or n == 0: return 0\n",
        "  if n == 2: return 1\n",
        "\n",
        "  if n in seen: return seen[n]\n",
        "\n",
        "  seen[n] = _tribonacci(n-1, seen) + _tribonacci(n-2, seen) + _tribonacci(n-3, seen)\n",
        "\n",
        "  return seen[n]\n",
        "\n",
        "tribonacci(7) # -> 13"
      ],
      "metadata": {
        "colab": {
          "base_uri": "https://localhost:8080/"
        },
        "id": "aGQbR6ira1K5",
        "outputId": "5faebd4d-2eb8-413a-ec5f-39a3469906f6"
      },
      "execution_count": null,
      "outputs": [
        {
          "output_type": "execute_result",
          "data": {
            "text/plain": [
              "13"
            ]
          },
          "metadata": {},
          "execution_count": 1
        }
      ]
    },
    {
      "cell_type": "markdown",
      "source": [
        "sum possible\n",
        "\n",
        "Write a function sum_possible that takes in an amount and a list of positive numbers. The function should return a boolean indicating whether or not it is possible to create the amount by summing numbers of the list. You may reuse numbers of the list as many times as necessary.\n",
        "\n",
        "You may assume that the target amount is non-negative."
      ],
      "metadata": {
        "id": "5W7g8j6XfcnU"
      }
    },
    {
      "cell_type": "code",
      "source": [
        "def sum_possible(amount, numbers):\n",
        "  return _sum_possible(amount, numbers, {})\n",
        "\n",
        "def _sum_possible(amount, numbers, memo):\n",
        "  if amount in memo:\n",
        "    return memo[amount]\n",
        "\n",
        "  if amount < 0:\n",
        "    return False\n",
        "\n",
        "  if amount == 0:\n",
        "    return True\n",
        "\n",
        "  for num in numbers:\n",
        "    if _sum_possible(amount - num, numbers, memo) == True:\n",
        "      memo[amount] = True\n",
        "      return True\n",
        "\n",
        "  memo[amount] = False\n",
        "  return False\n",
        "\n",
        "sum_possible(8, [5, 12, 4]) # -> True, 4 + 4"
      ],
      "metadata": {
        "colab": {
          "base_uri": "https://localhost:8080/"
        },
        "id": "r5g1u2wVfd_Y",
        "outputId": "3f2e5bf7-1c70-4b66-d314-78dbd421e507"
      },
      "execution_count": null,
      "outputs": [
        {
          "output_type": "execute_result",
          "data": {
            "text/plain": [
              "True"
            ]
          },
          "metadata": {},
          "execution_count": 1
        }
      ]
    },
    {
      "cell_type": "markdown",
      "source": [
        "## min change\n",
        "\n",
        "Write a function min_change that takes in an amount and a list of coins. The function should return the minimum number of coins required to create the amount. You may use each coin as many times as necessary.\n",
        "\n",
        "If it is not possible to create the amount, then return -1."
      ],
      "metadata": {
        "id": "dUkWJXW_Z0DY"
      }
    },
    {
      "cell_type": "code",
      "source": [
        "def min_change(amount, coins):\n",
        "  ans = _min_change(amount,coins,{})\n",
        "  if ans == float('inf'):\n",
        "    return -1\n",
        "  else:\n",
        "    return ans\n",
        "\n",
        "def _min_change(amount, coins, memo):\n",
        "  if amount in memo:\n",
        "    return memo[amount]\n",
        "\n",
        "  if amount == 0:\n",
        "    return 0\n",
        "\n",
        "  if amount < 0:\n",
        "    return float('inf')\n",
        "\n",
        "  min_coins = float('inf')\n",
        "  for coin in coins:\n",
        "    num_coins = 1 + _min_change(amount - coin, coins, memo)\n",
        "    min_coins = min(min_coins, num_coins)\n",
        "\n",
        "  memo[amount] = min_coins\n",
        "  return min_coins\n",
        "\n",
        "print(min_change(8, [1, 5, 4, 12])) # -> 2, because 4+4 is the minimum coins possible"
      ],
      "metadata": {
        "colab": {
          "base_uri": "https://localhost:8080/"
        },
        "id": "l4buDyzAZ2E1",
        "outputId": "086dd656-7093-4705-d508-d7b00c428b62"
      },
      "execution_count": null,
      "outputs": [
        {
          "output_type": "stream",
          "name": "stdout",
          "text": [
            "2\n"
          ]
        }
      ]
    },
    {
      "cell_type": "markdown",
      "source": [
        "# Stack"
      ],
      "metadata": {
        "id": "eSlRrB5j4i1_"
      }
    },
    {
      "cell_type": "markdown",
      "source": [],
      "metadata": {
        "id": "_cfbFoWV4nPD"
      }
    },
    {
      "cell_type": "markdown",
      "source": [
        "# Arrays and Strings"
      ],
      "metadata": {
        "id": "qaYFt1vL5XGC"
      }
    },
    {
      "cell_type": "markdown",
      "source": [
        "running sum\n",
        "\n",
        "Write a function, running_sum, that takes in a list of numbers. The function should return a new list of the same length where each element contains the running sum up to that index of the original list.\n",
        "\n",
        "For example, the i-th result should be the sum of all elements 0 to i:\n",
        "\n",
        "result[i] = numbers[0] + numbers[1] + numbers[2] + ... + numbers[i]\n"
      ],
      "metadata": {
        "id": "bzPfi0n_5aE0"
      }
    },
    {
      "cell_type": "code",
      "source": [
        "def running_sum(numbers):\n",
        "  if not numbers: return numbers\n",
        "\n",
        "  res = []\n",
        "  curr_sum = 0\n",
        "\n",
        "  for number in numbers:\n",
        "    curr_sum += number\n",
        "    res.append(curr_sum)\n",
        "\n",
        "  return res\n",
        "\n",
        "running_sum([4, 2, 1, 6, 3, 6]) # -> [ 4, 6, 7, 13, 16, 22 ]"
      ],
      "metadata": {
        "id": "J9g00Dq151fC",
        "outputId": "ff8c0436-7bc6-4d09-b9bb-9fee3f2e9fe4",
        "colab": {
          "base_uri": "https://localhost:8080/"
        }
      },
      "execution_count": null,
      "outputs": [
        {
          "output_type": "execute_result",
          "data": {
            "text/plain": [
              "[4, 6, 7, 13, 16, 22]"
            ]
          },
          "metadata": {},
          "execution_count": 1
        }
      ]
    },
    {
      "cell_type": "markdown",
      "source": [
        "has subarray sum\n",
        "\n",
        "Write a function, has_subarray_sum, that takes in an list of numbers and a target_sum. The function should return a boolean indicating whether or not there exists a subarray of numbers that sums to the given target.\n",
        "\n",
        "A subarray is a consecutive series of one or more elements of the list."
      ],
      "metadata": {
        "id": "60quIMwuwR32"
      }
    },
    {
      "cell_type": "code",
      "source": [
        "def has_subarray_sum(numbers, target_sum):\n",
        "  prefix_sums = [0]\n",
        "  total = 0\n",
        "\n",
        "  for num in numbers:\n",
        "    total += num\n",
        "    prefix_sums.append(total)\n",
        "\n",
        "\n",
        "  seen = set()\n",
        "  for current in prefix_sums:\n",
        "    complement = current - target_sum\n",
        "    if complement in seen:\n",
        "      return True\n",
        "    seen.add(current)\n",
        "\n",
        "  return False\n",
        "\n",
        "has_subarray_sum([1, 3, 1, 4, 3], 8) # -> True"
      ],
      "metadata": {
        "colab": {
          "base_uri": "https://localhost:8080/"
        },
        "id": "mUvyhGn-wUSz",
        "outputId": "ee6da99a-0d99-476a-e3de-b1a10a053369"
      },
      "execution_count": null,
      "outputs": [
        {
          "output_type": "execute_result",
          "data": {
            "text/plain": [
              "True"
            ]
          },
          "metadata": {},
          "execution_count": 1
        }
      ]
    },
    {
      "cell_type": "markdown",
      "source": [
        "subarray sum count\n",
        "\n",
        "Write a function, subarray_sum_count, that takes in an list of numbers and a targetSum. The function should return the number of subarrays that sum to the given target.\n",
        "\n",
        "A subarray is a consecutive series of one or more elements of the list."
      ],
      "metadata": {
        "id": "1uKwgCQo8pOD"
      }
    },
    {
      "cell_type": "code",
      "source": [
        "from collections import Counter\n",
        "\n",
        "def subarray_sum_count(numbers, target_sum):\n",
        "  prefix_sums = [0]\n",
        "  total = 0\n",
        "\n",
        "  for num in numbers:\n",
        "    total += num\n",
        "    prefix_sums.append(total)\n",
        "\n",
        "  seen = Counter()\n",
        "  count = 0\n",
        "  for current in prefix_sums:\n",
        "    complement = current - target_sum\n",
        "    count += seen[complement]\n",
        "    seen[current] += 1\n",
        "\n",
        "  return count\n",
        "\n",
        "subarray_sum_count([1, 3, 1, 4, -2, 3], 5) # -> 3\n"
      ],
      "metadata": {
        "colab": {
          "base_uri": "https://localhost:8080/"
        },
        "id": "s_JiFnMj8q9V",
        "outputId": "8f1193b2-aad8-4e54-8c17-a47e517602aa"
      },
      "execution_count": 1,
      "outputs": [
        {
          "output_type": "execute_result",
          "data": {
            "text/plain": [
              "3"
            ]
          },
          "metadata": {},
          "execution_count": 1
        }
      ]
    }
  ]
}